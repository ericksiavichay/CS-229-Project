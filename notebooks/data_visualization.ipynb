{
 "cells": [
  {
   "cell_type": "code",
   "execution_count": 22,
   "metadata": {},
   "outputs": [],
   "source": [
    "import pandas as pd\n",
    "import json as js\n",
    "import requests\n",
    "import numpy as np"
   ]
  },
  {
   "cell_type": "code",
   "execution_count": 29,
   "metadata": {},
   "outputs": [],
   "source": [
    "r = requests.get(\"https://www.purpleair.com/data.json\")\n",
    "columns = r.json()[\"fields\"]\n",
    "data = r.json()[\"data\"]"
   ]
  },
  {
   "cell_type": "code",
   "execution_count": 31,
   "metadata": {},
   "outputs": [],
   "source": [
    "purpleair_data = pd.DataFrame(data)\n",
    "purpleair_data.columns = columns"
   ]
  },
  {
   "cell_type": "code",
   "execution_count": 32,
   "metadata": {},
   "outputs": [
    {
     "data": {
      "text/plain": [
       "(12364, 34)"
      ]
     },
     "execution_count": 32,
     "metadata": {},
     "output_type": "execute_result"
    }
   ],
   "source": [
    "purpleair_data.shape"
   ]
  },
  {
   "cell_type": "code",
   "execution_count": 33,
   "metadata": {},
   "outputs": [
    {
     "data": {
      "text/html": [
       "<div>\n",
       "<style scoped>\n",
       "    .dataframe tbody tr th:only-of-type {\n",
       "        vertical-align: middle;\n",
       "    }\n",
       "\n",
       "    .dataframe tbody tr th {\n",
       "        vertical-align: top;\n",
       "    }\n",
       "\n",
       "    .dataframe thead th {\n",
       "        text-align: right;\n",
       "    }\n",
       "</style>\n",
       "<table border=\"1\" class=\"dataframe\">\n",
       "  <thead>\n",
       "    <tr style=\"text-align: right;\">\n",
       "      <th></th>\n",
       "      <th>ID</th>\n",
       "      <th>pm</th>\n",
       "      <th>age</th>\n",
       "      <th>pm_0</th>\n",
       "      <th>pm_1</th>\n",
       "      <th>pm_2</th>\n",
       "      <th>pm_3</th>\n",
       "      <th>pm_4</th>\n",
       "      <th>pm_5</th>\n",
       "      <th>pm_6</th>\n",
       "      <th>...</th>\n",
       "      <th>Label</th>\n",
       "      <th>Lat</th>\n",
       "      <th>Lon</th>\n",
       "      <th>Icon</th>\n",
       "      <th>isOwner</th>\n",
       "      <th>Flags</th>\n",
       "      <th>Voc</th>\n",
       "      <th>Ozone1</th>\n",
       "      <th>Adc</th>\n",
       "      <th>CH</th>\n",
       "    </tr>\n",
       "  </thead>\n",
       "  <tbody>\n",
       "    <tr>\n",
       "      <th>0</th>\n",
       "      <td>20</td>\n",
       "      <td>0.0</td>\n",
       "      <td>1</td>\n",
       "      <td>0.0</td>\n",
       "      <td>0.0</td>\n",
       "      <td>0.0</td>\n",
       "      <td>0.0</td>\n",
       "      <td>0.0</td>\n",
       "      <td>0.0</td>\n",
       "      <td>0.0</td>\n",
       "      <td>...</td>\n",
       "      <td>Oakdale</td>\n",
       "      <td>40.603077</td>\n",
       "      <td>-111.836120</td>\n",
       "      <td>0</td>\n",
       "      <td>0</td>\n",
       "      <td>0</td>\n",
       "      <td>NaN</td>\n",
       "      <td>NaN</td>\n",
       "      <td>0.01</td>\n",
       "      <td>1</td>\n",
       "    </tr>\n",
       "    <tr>\n",
       "      <th>1</th>\n",
       "      <td>47</td>\n",
       "      <td>NaN</td>\n",
       "      <td>1</td>\n",
       "      <td>NaN</td>\n",
       "      <td>NaN</td>\n",
       "      <td>NaN</td>\n",
       "      <td>NaN</td>\n",
       "      <td>NaN</td>\n",
       "      <td>NaN</td>\n",
       "      <td>NaN</td>\n",
       "      <td>...</td>\n",
       "      <td>OZONE TEST</td>\n",
       "      <td>40.476204</td>\n",
       "      <td>-111.882600</td>\n",
       "      <td>0</td>\n",
       "      <td>0</td>\n",
       "      <td>0</td>\n",
       "      <td>NaN</td>\n",
       "      <td>1.31</td>\n",
       "      <td>1.31</td>\n",
       "      <td>0</td>\n",
       "    </tr>\n",
       "    <tr>\n",
       "      <th>2</th>\n",
       "      <td>53</td>\n",
       "      <td>21.2</td>\n",
       "      <td>1</td>\n",
       "      <td>21.2</td>\n",
       "      <td>14.8</td>\n",
       "      <td>8.7</td>\n",
       "      <td>5.6</td>\n",
       "      <td>2.5</td>\n",
       "      <td>3.9</td>\n",
       "      <td>8.8</td>\n",
       "      <td>...</td>\n",
       "      <td>Lakeshore</td>\n",
       "      <td>40.246742</td>\n",
       "      <td>-111.704800</td>\n",
       "      <td>0</td>\n",
       "      <td>0</td>\n",
       "      <td>0</td>\n",
       "      <td>NaN</td>\n",
       "      <td>NaN</td>\n",
       "      <td>0.00</td>\n",
       "      <td>1</td>\n",
       "    </tr>\n",
       "    <tr>\n",
       "      <th>3</th>\n",
       "      <td>72</td>\n",
       "      <td>30.2</td>\n",
       "      <td>4567</td>\n",
       "      <td>30.2</td>\n",
       "      <td>28.8</td>\n",
       "      <td>30.4</td>\n",
       "      <td>32.1</td>\n",
       "      <td>33.4</td>\n",
       "      <td>34.0</td>\n",
       "      <td>36.1</td>\n",
       "      <td>...</td>\n",
       "      <td>90.9fm KRCL</td>\n",
       "      <td>40.770190</td>\n",
       "      <td>-111.947075</td>\n",
       "      <td>0</td>\n",
       "      <td>0</td>\n",
       "      <td>0</td>\n",
       "      <td>NaN</td>\n",
       "      <td>NaN</td>\n",
       "      <td>0.05</td>\n",
       "      <td>1</td>\n",
       "    </tr>\n",
       "    <tr>\n",
       "      <th>4</th>\n",
       "      <td>74</td>\n",
       "      <td>0.0</td>\n",
       "      <td>0</td>\n",
       "      <td>0.0</td>\n",
       "      <td>0.0</td>\n",
       "      <td>0.0</td>\n",
       "      <td>0.0</td>\n",
       "      <td>0.0</td>\n",
       "      <td>0.0</td>\n",
       "      <td>0.0</td>\n",
       "      <td>...</td>\n",
       "      <td>Wasatch Commons</td>\n",
       "      <td>40.738262</td>\n",
       "      <td>-111.936250</td>\n",
       "      <td>0</td>\n",
       "      <td>0</td>\n",
       "      <td>0</td>\n",
       "      <td>NaN</td>\n",
       "      <td>NaN</td>\n",
       "      <td>0.05</td>\n",
       "      <td>1</td>\n",
       "    </tr>\n",
       "  </tbody>\n",
       "</table>\n",
       "<p>5 rows × 34 columns</p>\n",
       "</div>"
      ],
      "text/plain": [
       "   ID    pm   age  pm_0  pm_1  pm_2  pm_3  pm_4  pm_5  pm_6  ...  \\\n",
       "0  20   0.0     1   0.0   0.0   0.0   0.0   0.0   0.0   0.0  ...   \n",
       "1  47   NaN     1   NaN   NaN   NaN   NaN   NaN   NaN   NaN  ...   \n",
       "2  53  21.2     1  21.2  14.8   8.7   5.6   2.5   3.9   8.8  ...   \n",
       "3  72  30.2  4567  30.2  28.8  30.4  32.1  33.4  34.0  36.1  ...   \n",
       "4  74   0.0     0   0.0   0.0   0.0   0.0   0.0   0.0   0.0  ...   \n",
       "\n",
       "             Label        Lat         Lon  Icon  isOwner  Flags  Voc  Ozone1  \\\n",
       "0          Oakdale  40.603077 -111.836120     0        0      0  NaN     NaN   \n",
       "1       OZONE TEST  40.476204 -111.882600     0        0      0  NaN    1.31   \n",
       "2        Lakeshore  40.246742 -111.704800     0        0      0  NaN     NaN   \n",
       "3      90.9fm KRCL  40.770190 -111.947075     0        0      0  NaN     NaN   \n",
       "4  Wasatch Commons  40.738262 -111.936250     0        0      0  NaN     NaN   \n",
       "\n",
       "    Adc  CH  \n",
       "0  0.01   1  \n",
       "1  1.31   0  \n",
       "2  0.00   1  \n",
       "3  0.05   1  \n",
       "4  0.05   1  \n",
       "\n",
       "[5 rows x 34 columns]"
      ]
     },
     "execution_count": 33,
     "metadata": {},
     "output_type": "execute_result"
    }
   ],
   "source": [
    "purpleair_data.head()"
   ]
  },
  {
   "cell_type": "code",
   "execution_count": 34,
   "metadata": {},
   "outputs": [],
   "source": [
    "data_no_na = purpleair_data.dropna()"
   ]
  },
  {
   "cell_type": "code",
   "execution_count": 35,
   "metadata": {},
   "outputs": [
    {
     "data": {
      "text/plain": [
       "(4, 34)"
      ]
     },
     "execution_count": 35,
     "metadata": {},
     "output_type": "execute_result"
    }
   ],
   "source": [
    "data_no_na.shape"
   ]
  }
 ],
 "metadata": {
  "kernelspec": {
   "display_name": "Python 3",
   "language": "python",
   "name": "python3"
  },
  "language_info": {
   "codemirror_mode": {
    "name": "ipython",
    "version": 3
   },
   "file_extension": ".py",
   "mimetype": "text/x-python",
   "name": "python",
   "nbconvert_exporter": "python",
   "pygments_lexer": "ipython3",
   "version": "3.6.9"
  }
 },
 "nbformat": 4,
 "nbformat_minor": 4
}
