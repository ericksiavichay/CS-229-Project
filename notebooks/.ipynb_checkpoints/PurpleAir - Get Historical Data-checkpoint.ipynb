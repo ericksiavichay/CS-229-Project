{
 "cells": [
  {
   "cell_type": "code",
   "execution_count": 1,
   "metadata": {
    "colab": {},
    "colab_type": "code",
    "id": "s3uQzb6mRePk"
   },
   "outputs": [
    {
     "ename": "ModuleNotFoundError",
     "evalue": "No module named 'matplotlib'",
     "output_type": "error",
     "traceback": [
      "\u001b[0;31m---------------------------------------------------------------------------\u001b[0m",
      "\u001b[0;31mModuleNotFoundError\u001b[0m                       Traceback (most recent call last)",
      "\u001b[0;32m<ipython-input-1-16ac53b25504>\u001b[0m in \u001b[0;36m<module>\u001b[0;34m\u001b[0m\n\u001b[1;32m      6\u001b[0m \u001b[0;32mimport\u001b[0m \u001b[0mos\u001b[0m\u001b[0;34m\u001b[0m\u001b[0;34m\u001b[0m\u001b[0m\n\u001b[1;32m      7\u001b[0m \u001b[0;32mimport\u001b[0m \u001b[0mnumpy\u001b[0m \u001b[0;32mas\u001b[0m \u001b[0mnp\u001b[0m\u001b[0;34m\u001b[0m\u001b[0;34m\u001b[0m\u001b[0m\n\u001b[0;32m----> 8\u001b[0;31m \u001b[0;32mimport\u001b[0m \u001b[0mmatplotlib\u001b[0m\u001b[0;34m.\u001b[0m\u001b[0mpyplot\u001b[0m \u001b[0;32mas\u001b[0m \u001b[0mplt\u001b[0m\u001b[0;34m\u001b[0m\u001b[0;34m\u001b[0m\u001b[0m\n\u001b[0m",
      "\u001b[0;31mModuleNotFoundError\u001b[0m: No module named 'matplotlib'"
     ]
    }
   ],
   "source": [
    "import requests as r\n",
    "import pandas as pd\n",
    "import datetime as dt\n",
    "import io\n",
    "import sys\n",
    "import os\n",
    "import numpy as np\n",
    "import matplotlib.pyplot as plt"
   ]
  },
  {
   "cell_type": "code",
   "execution_count": 0,
   "metadata": {
    "colab": {},
    "colab_type": "code",
    "id": "_vXqgxEQmPur"
   },
   "outputs": [],
   "source": [
    "from google.colab import files, drive"
   ]
  },
  {
   "cell_type": "markdown",
   "metadata": {
    "colab_type": "text",
    "id": "RTJu-GI6sJfq"
   },
   "source": [
    "## Setting up folder\n",
    "\n",
    "Login to Google Drive and set `basepath` as the home folder where all files will be stored."
   ]
  },
  {
   "cell_type": "code",
   "execution_count": 12,
   "metadata": {
    "colab": {
     "base_uri": "https://localhost:8080/",
     "height": 34
    },
    "colab_type": "code",
    "executionInfo": {
     "elapsed": 1187,
     "status": "ok",
     "timestamp": 1575995553664,
     "user": {
      "displayName": "Tom Li",
      "photoUrl": "",
      "userId": "13175434954837705014"
     },
     "user_tz": 360
    },
    "id": "ADIGKVQAVHwG",
    "outputId": "6c61acf3-2680-4aea-e386-102edf9fe542"
   },
   "outputs": [
    {
     "name": "stdout",
     "output_type": "stream",
     "text": [
      "Drive already mounted at /content/drive; to attempt to forcibly remount, call drive.mount(\"/content/drive\", force_remount=True).\n"
     ]
    }
   ],
   "source": [
    "drive.mount('/content/drive')"
   ]
  },
  {
   "cell_type": "code",
   "execution_count": 0,
   "metadata": {
    "colab": {},
    "colab_type": "code",
    "id": "OGcqaSZNVh3g"
   },
   "outputs": [],
   "source": [
    "basepath = '/content/drive/My Drive/PurpleAir/'"
   ]
  },
  {
   "cell_type": "code",
   "execution_count": 0,
   "metadata": {
    "colab": {},
    "colab_type": "code",
    "id": "A_ykii6ZRePo"
   },
   "outputs": [],
   "source": [
    "sensors_us = pd.read_csv(basepath+'sensors_us.csv')"
   ]
  },
  {
   "cell_type": "markdown",
   "metadata": {
    "colab_type": "text",
    "id": "bv4DRWzhApcd"
   },
   "source": [
    "Source: https://github.com/bomeara/purpleairpy/blob/master/api.md"
   ]
  },
  {
   "cell_type": "code",
   "execution_count": 0,
   "metadata": {
    "colab": {},
    "colab_type": "code",
    "id": "YNn9xeq_PEcZ"
   },
   "outputs": [],
   "source": [
    "field_names = {'field1': 'PM1.0_ATM', 'field2': 'PM2.5_ATM', 'field3': 'PM10.0_ATM', 'field4': 'Uptime_min', 'field5': 'RSSI (WiFi Signal Strength)', 'field6': 'Temperature_F', 'field7': 'Humidity_%', 'field8': 'PM2.5'}"
   ]
  },
  {
   "cell_type": "markdown",
   "metadata": {
    "colab_type": "text",
    "id": "1eSPIk9EFguz"
   },
   "source": [
    "## Select sensors\n",
    "\n",
    "Select sensors to download data for based on city, state, specific label names or zipcode. Simply uncomment the selection criteria"
   ]
  },
  {
   "cell_type": "code",
   "execution_count": 0,
   "metadata": {
    "colab": {},
    "colab_type": "code",
    "id": "7Vm4eXOcFWLq"
   },
   "outputs": [],
   "source": [
    "city = 'Austin'\n",
    "#state = 'TX'\n",
    "#label_names = ['Columbia South', 'Columbia South B', 'Columbia University SEAS', 'Columbia University SEAS B']\n",
    "#zipcode = 77840"
   ]
  },
  {
   "cell_type": "markdown",
   "metadata": {
    "colab_type": "text",
    "id": "Z91XFqWbsf6V"
   },
   "source": [
    "Modify parameters below to select date range and averaging"
   ]
  },
  {
   "cell_type": "code",
   "execution_count": 0,
   "metadata": {
    "colab": {},
    "colab_type": "code",
    "id": "44WsM_BAsbeZ"
   },
   "outputs": [],
   "source": [
    "start_date = '2019-10-01%2000:00:00' # Beginning of Oct 2019\n",
    "end_date =  dt.datetime.now().strftime('%Y-%m-%d %H:%M:%S') # time now\n",
    "averaging = '60' # minutes 60 minutes = hourly average, 1440 mins = daily average"
   ]
  },
  {
   "cell_type": "code",
   "execution_count": 0,
   "metadata": {
    "colab": {},
    "colab_type": "code",
    "id": "xd23p-pnoOAN"
   },
   "outputs": [],
   "source": [
    "sensor_meta = ['ID', 'Label', 'Lat', 'Lon', 'ParentID', 'THINGSPEAK_PRIMARY_ID', 'THINGSPEAK_PRIMARY_ID_READ_KEY', 'THINGSPEAK_SECONDARY_ID', 'THINGSPEAK_SECONDARY_ID_READ_KEY', 'humidity', 'pressure', 'temp_f', 'street_address', 'city', 'state', 'zipcode']"
   ]
  },
  {
   "cell_type": "markdown",
   "metadata": {
    "colab_type": "text",
    "id": "JL7VFPhhsvXC"
   },
   "source": [
    "Uncomment below based on selection criteria"
   ]
  },
  {
   "cell_type": "code",
   "execution_count": 0,
   "metadata": {
    "colab": {},
    "colab_type": "code",
    "id": "rCZd0n6eWzff"
   },
   "outputs": [],
   "source": [
    "#sensors_state = sensors_us.loc[sensors_us['state'] == state, sensor_meta].reset_index(drop=True)\n",
    "#sensors_state.head()"
   ]
  },
  {
   "cell_type": "code",
   "execution_count": 0,
   "metadata": {
    "colab": {},
    "colab_type": "code",
    "id": "5uh3HX9NpCbm"
   },
   "outputs": [],
   "source": [
    "sensors_city = sensors_us.loc[sensors_us['city'] == city, sensor_meta].reset_index(drop=True)\n",
    "sensors_city.head()"
   ]
  },
  {
   "cell_type": "code",
   "execution_count": 0,
   "metadata": {
    "colab": {},
    "colab_type": "code",
    "id": "wtlCwKdfB9cj"
   },
   "outputs": [],
   "source": [
    "#sensors_zip = sensors_us.loc[(sensors_us['zipcode'] < zipcode+200) & (sensors_us['zipcode'] > zipcode-200), sensor_meta].reset_index(drop=True)\n",
    "#sensors_zip.head()"
   ]
  },
  {
   "cell_type": "markdown",
   "metadata": {
    "colab_type": "text",
    "id": "Gm5bVewLo0PX"
   },
   "source": []
  },
  {
   "cell_type": "code",
   "execution_count": 0,
   "metadata": {
    "colab": {},
    "colab_type": "code",
    "id": "XLClqCIDyNa9"
   },
   "outputs": [],
   "source": [
    "ID_names = sensors_us[sensors_us['city'] == city.title()].ID.reset_index(drop=True)"
   ]
  },
  {
   "cell_type": "code",
   "execution_count": 0,
   "metadata": {
    "colab": {},
    "colab_type": "code",
    "id": "9plHY-Gnx9kF"
   },
   "outputs": [],
   "source": [
    "#ID_names = sensors_us[sensors_us['state'] == state.title()].ID.reset_index(drop=True)"
   ]
  },
  {
   "cell_type": "code",
   "execution_count": 0,
   "metadata": {
    "colab": {},
    "colab_type": "code",
    "id": "fJ8sgt48z_Eh"
   },
   "outputs": [],
   "source": [
    "def get_hist_data(sensor_ID):\n",
    "    sensor = sensors_us[sensors_us.ID == sensor_ID]\n",
    "    sensor_name = sensor.Label.values[0].replace(' ', '_')\n",
    "    \n",
    "    channel_id = sensor['THINGSPEAK_PRIMARY_ID'].values[0]\n",
    "    api_key = sensor['THINGSPEAK_PRIMARY_ID_READ_KEY'].values[0]\n",
    "       \n",
    "    ts_url = f'https://api.thingspeak.com/channels/{channel_id}/feeds.csv?&api_key={api_key}&start={start_date}&end={end_date}&average={averaging}'\n",
    "    ts_data = r.get(ts_url)\n",
    "    \n",
    "    if not ts_data.ok:\n",
    "        print(ts_data.reason)\n",
    "    else:\n",
    "        sensor_data = pd.read_csv(io.StringIO(ts_data.text))\n",
    "        if sensor_name[-2:] == '_B':\n",
    "            field_names = {'field8': f'PM2.5_{sensor_ID}'}\n",
    "            req_cols = ['created_at', f'PM2.5_{sensor_ID}']\n",
    "        else:\n",
    "            field_names = {'field6': f'Temperature_F_{sensor_ID}', 'field7': f'Humidity_%_{sensor_ID}', 'field8': f'PM2.5_{sensor_ID}'}\n",
    "            req_cols = ['created_at', f'Temperature_F_{sensor_ID}', f'Humidity_%_{sensor_ID}', f'PM2.5_{sensor_ID}']\n",
    "        sensor_data.rename(mapper = field_names, axis = 'columns', inplace = True)\n",
    "        return sensor_data[req_cols]"
   ]
  },
  {
   "cell_type": "code",
   "execution_count": 0,
   "metadata": {
    "colab": {},
    "colab_type": "code",
    "id": "sA35dvhqaEe5"
   },
   "outputs": [],
   "source": [
    "def get_multiple_sensors(ID_names):\n",
    "    n = len(ID_names)\n",
    "    sensors_df = get_hist_data(ID_names[0])\n",
    "    print(sensors_df.head())\n",
    "    for i in range(1,n):\n",
    "        temp_df = get_hist_data(ID_names[i])\n",
    "        sensors_df = sensors_df.merge(temp_df, how = 'outer', on = 'created_at', sort = True)\n",
    "    \n",
    "    sensors_df['Temperature_F_avg'] = sensors_df.filter(regex = 'Temperature.*').mean(axis = 1)\n",
    "    sensors_df['Humidity_avg'] = sensors_df.filter(regex = 'Humidity.*').mean(axis = 1)\n",
    "    return sensors_df"
   ]
  },
  {
   "cell_type": "code",
   "execution_count": 0,
   "metadata": {
    "colab": {},
    "colab_type": "code",
    "id": "Z6w4d29PTR2K"
   },
   "outputs": [],
   "source": [
    "ID_names"
   ]
  },
  {
   "cell_type": "code",
   "execution_count": 0,
   "metadata": {
    "colab": {},
    "colab_type": "code",
    "id": "Pr1sNx0NwSrV"
   },
   "outputs": [],
   "source": [
    "sensors_df = get_multiple_sensors(ID_names)"
   ]
  },
  {
   "cell_type": "code",
   "execution_count": 0,
   "metadata": {
    "colab": {},
    "colab_type": "code",
    "id": "TWKkRlySIIdM"
   },
   "outputs": [],
   "source": [
    "sensors_df.head()"
   ]
  },
  {
   "cell_type": "code",
   "execution_count": 0,
   "metadata": {
    "colab": {},
    "colab_type": "code",
    "id": "YR8H5lq2LB9z"
   },
   "outputs": [],
   "source": [
    "sensors_df.shape"
   ]
  },
  {
   "cell_type": "code",
   "execution_count": 0,
   "metadata": {
    "colab": {},
    "colab_type": "code",
    "id": "7EFvf9ovwKe7"
   },
   "outputs": [],
   "source": [
    "city_f = city.replace(' ','-')\n",
    "#state_f = state.replace(' ','-')\n",
    "#zipcode_f = str(zipcode)"
   ]
  },
  {
   "cell_type": "code",
   "execution_count": 0,
   "metadata": {
    "colab": {},
    "colab_type": "code",
    "id": "Hos5XkejzvB3"
   },
   "outputs": [],
   "source": [
    "sensor_data_filename = f'{city_f}-{start_date[:10]}-to-{end_date[:10]}-{averaging}.csv'"
   ]
  },
  {
   "cell_type": "code",
   "execution_count": 0,
   "metadata": {
    "colab": {},
    "colab_type": "code",
    "id": "mOR_ZzUcx2lG"
   },
   "outputs": [],
   "source": [
    "sensors_df.to_csv(basepath+sensor_data_filename, index = False)"
   ]
  },
  {
   "cell_type": "code",
   "execution_count": 0,
   "metadata": {
    "colab": {},
    "colab_type": "code",
    "id": "KekbJmB4LtiY"
   },
   "outputs": [],
   "source": [
    "sensors_df.iloc[:,11].plot(figsize = [10,8])"
   ]
  },
  {
   "cell_type": "code",
   "execution_count": 0,
   "metadata": {
    "colab": {},
    "colab_type": "code",
    "id": "g2BXtQ-0TeQt"
   },
   "outputs": [],
   "source": []
  }
 ],
 "metadata": {
  "accelerator": "GPU",
  "colab": {
   "collapsed_sections": [],
   "name": "PurpleAir - Get Historical Data.ipynb",
   "provenance": []
  },
  "kernelspec": {
   "display_name": "Python 3",
   "language": "python",
   "name": "python3"
  },
  "language_info": {
   "codemirror_mode": {
    "name": "ipython",
    "version": 3
   },
   "file_extension": ".py",
   "mimetype": "text/x-python",
   "name": "python",
   "nbconvert_exporter": "python",
   "pygments_lexer": "ipython3",
   "version": "3.6.9"
  }
 },
 "nbformat": 4,
 "nbformat_minor": 1
}
