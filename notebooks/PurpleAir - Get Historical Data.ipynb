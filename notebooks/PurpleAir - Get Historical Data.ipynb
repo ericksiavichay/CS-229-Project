{
 "cells": [
  {
   "cell_type": "code",
   "execution_count": 2,
   "metadata": {
    "colab": {},
    "colab_type": "code",
    "id": "s3uQzb6mRePk"
   },
   "outputs": [],
   "source": [
    "import requests as r\n",
    "import pandas as pd\n",
    "import datetime as dt\n",
    "import io\n",
    "import sys\n",
    "import os\n",
    "import numpy as np\n",
    "import matplotlib.pyplot as plt"
   ]
  },
  {
   "cell_type": "code",
   "execution_count": 0,
   "metadata": {
    "colab": {},
    "colab_type": "code",
    "id": "_vXqgxEQmPur"
   },
   "outputs": [],
   "source": [
    "from google.colab import files, drive"
   ]
  },
  {
   "cell_type": "markdown",
   "metadata": {
    "colab_type": "text",
    "id": "RTJu-GI6sJfq"
   },
   "source": [
    "## Setting up folder\n",
    "\n",
    "Login to Google Drive and set `basepath` as the home folder where all files will be stored."
   ]
  },
  {
   "cell_type": "code",
   "execution_count": 12,
   "metadata": {
    "colab": {
     "base_uri": "https://localhost:8080/",
     "height": 34
    },
    "colab_type": "code",
    "executionInfo": {
     "elapsed": 1187,
     "status": "ok",
     "timestamp": 1575995553664,
     "user": {
      "displayName": "Tom Li",
      "photoUrl": "",
      "userId": "13175434954837705014"
     },
     "user_tz": 360
    },
    "id": "ADIGKVQAVHwG",
    "outputId": "6c61acf3-2680-4aea-e386-102edf9fe542"
   },
   "outputs": [
    {
     "name": "stdout",
     "output_type": "stream",
     "text": [
      "Drive already mounted at /content/drive; to attempt to forcibly remount, call drive.mount(\"/content/drive\", force_remount=True).\n"
     ]
    }
   ],
   "source": [
    "drive.mount('/content/drive')"
   ]
  },
  {
   "cell_type": "code",
   "execution_count": 0,
   "metadata": {
    "colab": {},
    "colab_type": "code",
    "id": "OGcqaSZNVh3g"
   },
   "outputs": [],
   "source": [
    "basepath = '/content/drive/My Drive/PurpleAir/'"
   ]
  },
  {
   "cell_type": "code",
   "execution_count": 3,
   "metadata": {
    "colab": {},
    "colab_type": "code",
    "id": "A_ykii6ZRePo"
   },
   "outputs": [],
   "source": [
    "sensors_us = pd.read_csv('sensors_us.csv')"
   ]
  },
  {
   "cell_type": "code",
   "execution_count": 11,
   "metadata": {},
   "outputs": [
    {
     "data": {
      "text/plain": [
       "(25944, 35)"
      ]
     },
     "execution_count": 11,
     "metadata": {},
     "output_type": "execute_result"
    }
   ],
   "source": [
    "sensors_us.shape"
   ]
  },
  {
   "cell_type": "markdown",
   "metadata": {
    "colab_type": "text",
    "id": "bv4DRWzhApcd"
   },
   "source": [
    "Source: https://github.com/bomeara/purpleairpy/blob/master/api.md"
   ]
  },
  {
   "cell_type": "code",
   "execution_count": 4,
   "metadata": {
    "colab": {},
    "colab_type": "code",
    "id": "YNn9xeq_PEcZ"
   },
   "outputs": [],
   "source": [
    "field_names = {'field1': 'PM1.0_ATM', 'field2': 'PM2.5_ATM', 'field3': 'PM10.0_ATM', 'field4': 'Uptime_min', 'field5': 'RSSI (WiFi Signal Strength)', 'field6': 'Temperature_F', 'field7': 'Humidity_%', 'field8': 'PM2.5'}"
   ]
  },
  {
   "cell_type": "markdown",
   "metadata": {
    "colab_type": "text",
    "id": "1eSPIk9EFguz"
   },
   "source": [
    "## Select sensors\n",
    "\n",
    "Select sensors to download data for based on city, state, specific label names or zipcode. Simply uncomment the selection criteria"
   ]
  },
  {
   "cell_type": "code",
   "execution_count": 5,
   "metadata": {
    "colab": {},
    "colab_type": "code",
    "id": "7Vm4eXOcFWLq"
   },
   "outputs": [],
   "source": [
    "city = 'Austin'\n",
    "#state = 'TX'\n",
    "#label_names = ['Columbia South', 'Columbia South B', 'Columbia University SEAS', 'Columbia University SEAS B']\n",
    "#zipcode = 77840"
   ]
  },
  {
   "cell_type": "markdown",
   "metadata": {
    "colab_type": "text",
    "id": "Z91XFqWbsf6V"
   },
   "source": [
    "Modify parameters below to select date range and averaging"
   ]
  },
  {
   "cell_type": "code",
   "execution_count": 6,
   "metadata": {
    "colab": {},
    "colab_type": "code",
    "id": "44WsM_BAsbeZ"
   },
   "outputs": [],
   "source": [
    "start_date = '2019-10-01%2000:00:00' # Beginning of Oct 2019\n",
    "end_date =  dt.datetime.now().strftime('%Y-%m-%d %H:%M:%S') # time now\n",
    "averaging = '60' # minutes 60 minutes = hourly average, 1440 mins = daily average"
   ]
  },
  {
   "cell_type": "code",
   "execution_count": 7,
   "metadata": {
    "colab": {},
    "colab_type": "code",
    "id": "xd23p-pnoOAN"
   },
   "outputs": [],
   "source": [
    "sensor_meta = ['ID', 'Label', 'Lat', 'Lon', 'ParentID', 'THINGSPEAK_PRIMARY_ID', 'THINGSPEAK_PRIMARY_ID_READ_KEY', 'THINGSPEAK_SECONDARY_ID', 'THINGSPEAK_SECONDARY_ID_READ_KEY', 'humidity', 'pressure', 'temp_f', 'street_address', 'city', 'state', 'zipcode']"
   ]
  },
  {
   "cell_type": "markdown",
   "metadata": {
    "colab_type": "text",
    "id": "JL7VFPhhsvXC"
   },
   "source": [
    "Uncomment below based on selection criteria"
   ]
  },
  {
   "cell_type": "code",
   "execution_count": 0,
   "metadata": {
    "colab": {},
    "colab_type": "code",
    "id": "rCZd0n6eWzff"
   },
   "outputs": [],
   "source": [
    "#sensors_state = sensors_us.loc[sensors_us['state'] == state, sensor_meta].reset_index(drop=True)\n",
    "#sensors_state.head()"
   ]
  },
  {
   "cell_type": "code",
   "execution_count": 8,
   "metadata": {
    "colab": {},
    "colab_type": "code",
    "id": "5uh3HX9NpCbm",
    "scrolled": true
   },
   "outputs": [
    {
     "data": {
      "text/html": [
       "<div>\n",
       "<style scoped>\n",
       "    .dataframe tbody tr th:only-of-type {\n",
       "        vertical-align: middle;\n",
       "    }\n",
       "\n",
       "    .dataframe tbody tr th {\n",
       "        vertical-align: top;\n",
       "    }\n",
       "\n",
       "    .dataframe thead th {\n",
       "        text-align: right;\n",
       "    }\n",
       "</style>\n",
       "<table border=\"1\" class=\"dataframe\">\n",
       "  <thead>\n",
       "    <tr style=\"text-align: right;\">\n",
       "      <th></th>\n",
       "      <th>ID</th>\n",
       "      <th>Label</th>\n",
       "      <th>Lat</th>\n",
       "      <th>Lon</th>\n",
       "      <th>ParentID</th>\n",
       "      <th>THINGSPEAK_PRIMARY_ID</th>\n",
       "      <th>THINGSPEAK_PRIMARY_ID_READ_KEY</th>\n",
       "      <th>THINGSPEAK_SECONDARY_ID</th>\n",
       "      <th>THINGSPEAK_SECONDARY_ID_READ_KEY</th>\n",
       "      <th>humidity</th>\n",
       "      <th>pressure</th>\n",
       "      <th>temp_f</th>\n",
       "      <th>street_address</th>\n",
       "      <th>city</th>\n",
       "      <th>state</th>\n",
       "      <th>zipcode</th>\n",
       "    </tr>\n",
       "  </thead>\n",
       "  <tbody>\n",
       "    <tr>\n",
       "      <th>0</th>\n",
       "      <td>26125</td>\n",
       "      <td>Circle-c-west</td>\n",
       "      <td>30.181337</td>\n",
       "      <td>-97.899920</td>\n",
       "      <td>NaN</td>\n",
       "      <td>695613</td>\n",
       "      <td>LWSC2BXC0TW9L98H</td>\n",
       "      <td>695614</td>\n",
       "      <td>R6WFE5WV8AZGA36I</td>\n",
       "      <td>25.0</td>\n",
       "      <td>996.67</td>\n",
       "      <td>73.0</td>\n",
       "      <td>Escarpment Blvd</td>\n",
       "      <td>Austin</td>\n",
       "      <td>TX</td>\n",
       "      <td>78739.0</td>\n",
       "    </tr>\n",
       "    <tr>\n",
       "      <th>1</th>\n",
       "      <td>26126</td>\n",
       "      <td>Circle-c-west B</td>\n",
       "      <td>30.181337</td>\n",
       "      <td>-97.899920</td>\n",
       "      <td>26125.0</td>\n",
       "      <td>695615</td>\n",
       "      <td>LYXYB8CL0GN0DN92</td>\n",
       "      <td>695616</td>\n",
       "      <td>C6CBCRYD0C1SHRCA</td>\n",
       "      <td>25.0</td>\n",
       "      <td>996.72</td>\n",
       "      <td>73.0</td>\n",
       "      <td>Escarpment Blvd</td>\n",
       "      <td>Austin</td>\n",
       "      <td>TX</td>\n",
       "      <td>78739.0</td>\n",
       "    </tr>\n",
       "    <tr>\n",
       "      <th>2</th>\n",
       "      <td>29003</td>\n",
       "      <td>circle-c-west-indoor</td>\n",
       "      <td>30.185177</td>\n",
       "      <td>-97.897041</td>\n",
       "      <td>NaN</td>\n",
       "      <td>731056</td>\n",
       "      <td>A78JCSVBCX88530D</td>\n",
       "      <td>731057</td>\n",
       "      <td>HQYV828Z6464N6BZ</td>\n",
       "      <td>39.0</td>\n",
       "      <td>990.30</td>\n",
       "      <td>79.0</td>\n",
       "      <td>6409 Aden Ln</td>\n",
       "      <td>Austin</td>\n",
       "      <td>TX</td>\n",
       "      <td>78739.0</td>\n",
       "    </tr>\n",
       "    <tr>\n",
       "      <th>3</th>\n",
       "      <td>29004</td>\n",
       "      <td>circle-c-west-indoor B</td>\n",
       "      <td>30.185177</td>\n",
       "      <td>-97.897041</td>\n",
       "      <td>29003.0</td>\n",
       "      <td>731058</td>\n",
       "      <td>L6YUEFV6GUE4C5G1</td>\n",
       "      <td>731059</td>\n",
       "      <td>AP1NUA2S504DAJ5V</td>\n",
       "      <td>NaN</td>\n",
       "      <td>NaN</td>\n",
       "      <td>NaN</td>\n",
       "      <td>6409 Aden Ln</td>\n",
       "      <td>Austin</td>\n",
       "      <td>TX</td>\n",
       "      <td>78739.0</td>\n",
       "    </tr>\n",
       "    <tr>\n",
       "      <th>4</th>\n",
       "      <td>2796</td>\n",
       "      <td>Lost Creek</td>\n",
       "      <td>30.276700</td>\n",
       "      <td>-97.837200</td>\n",
       "      <td>NaN</td>\n",
       "      <td>317108</td>\n",
       "      <td>SAQP68QUIQD4FON7</td>\n",
       "      <td>317109</td>\n",
       "      <td>NMMEBNP1J9MC13LN</td>\n",
       "      <td>52.0</td>\n",
       "      <td>995.21</td>\n",
       "      <td>93.0</td>\n",
       "      <td>2103 Kemper Cove</td>\n",
       "      <td>Austin</td>\n",
       "      <td>TX</td>\n",
       "      <td>78746.0</td>\n",
       "    </tr>\n",
       "  </tbody>\n",
       "</table>\n",
       "</div>"
      ],
      "text/plain": [
       "      ID                   Label        Lat        Lon  ParentID  \\\n",
       "0  26125           Circle-c-west  30.181337 -97.899920       NaN   \n",
       "1  26126         Circle-c-west B  30.181337 -97.899920   26125.0   \n",
       "2  29003    circle-c-west-indoor  30.185177 -97.897041       NaN   \n",
       "3  29004  circle-c-west-indoor B  30.185177 -97.897041   29003.0   \n",
       "4   2796              Lost Creek  30.276700 -97.837200       NaN   \n",
       "\n",
       "   THINGSPEAK_PRIMARY_ID THINGSPEAK_PRIMARY_ID_READ_KEY  \\\n",
       "0                 695613               LWSC2BXC0TW9L98H   \n",
       "1                 695615               LYXYB8CL0GN0DN92   \n",
       "2                 731056               A78JCSVBCX88530D   \n",
       "3                 731058               L6YUEFV6GUE4C5G1   \n",
       "4                 317108               SAQP68QUIQD4FON7   \n",
       "\n",
       "   THINGSPEAK_SECONDARY_ID THINGSPEAK_SECONDARY_ID_READ_KEY  humidity  \\\n",
       "0                   695614                 R6WFE5WV8AZGA36I      25.0   \n",
       "1                   695616                 C6CBCRYD0C1SHRCA      25.0   \n",
       "2                   731057                 HQYV828Z6464N6BZ      39.0   \n",
       "3                   731059                 AP1NUA2S504DAJ5V       NaN   \n",
       "4                   317109                 NMMEBNP1J9MC13LN      52.0   \n",
       "\n",
       "   pressure  temp_f    street_address    city state  zipcode  \n",
       "0    996.67    73.0   Escarpment Blvd  Austin    TX  78739.0  \n",
       "1    996.72    73.0   Escarpment Blvd  Austin    TX  78739.0  \n",
       "2    990.30    79.0      6409 Aden Ln  Austin    TX  78739.0  \n",
       "3       NaN     NaN      6409 Aden Ln  Austin    TX  78739.0  \n",
       "4    995.21    93.0  2103 Kemper Cove  Austin    TX  78746.0  "
      ]
     },
     "execution_count": 8,
     "metadata": {},
     "output_type": "execute_result"
    }
   ],
   "source": [
    "sensors_city = sensors_us.loc[sensors_us['city'] == city, sensor_meta].reset_index(drop=True)\n",
    "sensors_city.head()"
   ]
  },
  {
   "cell_type": "code",
   "execution_count": 13,
   "metadata": {},
   "outputs": [
    {
     "data": {
      "text/plain": [
       "(10, 16)"
      ]
     },
     "execution_count": 13,
     "metadata": {},
     "output_type": "execute_result"
    }
   ],
   "source": [
    "sensors_city.shape"
   ]
  },
  {
   "cell_type": "code",
   "execution_count": 14,
   "metadata": {
    "colab": {},
    "colab_type": "code",
    "id": "wtlCwKdfB9cj"
   },
   "outputs": [],
   "source": [
    "#sensors_zip = sensors_us.loc[(sensors_us['zipcode'] < zipcode+200) & (sensors_us['zipcode'] > zipcode-200), sensor_meta].reset_index(drop=True)\n",
    "#sensors_zip.head()"
   ]
  },
  {
   "cell_type": "markdown",
   "metadata": {
    "colab_type": "text",
    "id": "Gm5bVewLo0PX"
   },
   "source": []
  },
  {
   "cell_type": "code",
   "execution_count": 15,
   "metadata": {
    "colab": {},
    "colab_type": "code",
    "id": "XLClqCIDyNa9"
   },
   "outputs": [],
   "source": [
    "ID_names = sensors_us[sensors_us['city'] == city.title()].ID.reset_index(drop=True)"
   ]
  },
  {
   "cell_type": "code",
   "execution_count": 16,
   "metadata": {
    "colab": {},
    "colab_type": "code",
    "id": "9plHY-Gnx9kF"
   },
   "outputs": [],
   "source": [
    "#ID_names = sensors_us[sensors_us['state'] == state.title()].ID.reset_index(drop=True)"
   ]
  },
  {
   "cell_type": "code",
   "execution_count": 17,
   "metadata": {
    "colab": {},
    "colab_type": "code",
    "id": "fJ8sgt48z_Eh"
   },
   "outputs": [],
   "source": [
    "def get_hist_data(sensor_ID):\n",
    "    sensor = sensors_us[sensors_us.ID == sensor_ID]\n",
    "    sensor_name = sensor.Label.values[0].replace(' ', '_')\n",
    "    \n",
    "    channel_id = sensor['THINGSPEAK_PRIMARY_ID'].values[0]\n",
    "    api_key = sensor['THINGSPEAK_PRIMARY_ID_READ_KEY'].values[0]\n",
    "       \n",
    "    ts_url = f'https://api.thingspeak.com/channels/{channel_id}/feeds.csv?&api_key={api_key}&start={start_date}&end={end_date}&average={averaging}'\n",
    "    ts_data = r.get(ts_url)\n",
    "    \n",
    "    if not ts_data.ok:\n",
    "        print(ts_data.reason)\n",
    "    else:\n",
    "        sensor_data = pd.read_csv(io.StringIO(ts_data.text))\n",
    "        if sensor_name[-2:] == '_B':\n",
    "            field_names = {'field8': f'PM2.5_{sensor_ID}'}\n",
    "            req_cols = ['created_at', f'PM2.5_{sensor_ID}']\n",
    "        else:\n",
    "            field_names = {'field6': f'Temperature_F_{sensor_ID}', 'field7': f'Humidity_%_{sensor_ID}', 'field8': f'PM2.5_{sensor_ID}'}\n",
    "            req_cols = ['created_at', f'Temperature_F_{sensor_ID}', f'Humidity_%_{sensor_ID}', f'PM2.5_{sensor_ID}']\n",
    "        sensor_data.rename(mapper = field_names, axis = 'columns', inplace = True)\n",
    "        return sensor_data[req_cols]"
   ]
  },
  {
   "cell_type": "code",
   "execution_count": 18,
   "metadata": {
    "colab": {},
    "colab_type": "code",
    "id": "sA35dvhqaEe5"
   },
   "outputs": [],
   "source": [
    "def get_multiple_sensors(ID_names):\n",
    "    n = len(ID_names)\n",
    "    sensors_df = get_hist_data(ID_names[0])\n",
    "    print(sensors_df.head())\n",
    "    for i in range(1,n):\n",
    "        temp_df = get_hist_data(ID_names[i])\n",
    "        sensors_df = sensors_df.merge(temp_df, how = 'outer', on = 'created_at', sort = True)\n",
    "    \n",
    "    sensors_df['Temperature_F_avg'] = sensors_df.filter(regex = 'Temperature.*').mean(axis = 1)\n",
    "    sensors_df['Humidity_avg'] = sensors_df.filter(regex = 'Humidity.*').mean(axis = 1)\n",
    "    return sensors_df"
   ]
  },
  {
   "cell_type": "code",
   "execution_count": 19,
   "metadata": {
    "colab": {},
    "colab_type": "code",
    "id": "Z6w4d29PTR2K"
   },
   "outputs": [
    {
     "data": {
      "text/plain": [
       "0    26125\n",
       "1    26126\n",
       "2    29003\n",
       "3    29004\n",
       "4     2796\n",
       "5     2797\n",
       "6    34435\n",
       "7    34436\n",
       "8    22651\n",
       "9    22652\n",
       "Name: ID, dtype: int64"
      ]
     },
     "execution_count": 19,
     "metadata": {},
     "output_type": "execute_result"
    }
   ],
   "source": [
    "ID_names"
   ]
  },
  {
   "cell_type": "code",
   "execution_count": 20,
   "metadata": {
    "colab": {},
    "colab_type": "code",
    "id": "Pr1sNx0NwSrV"
   },
   "outputs": [
    {
     "name": "stdout",
     "output_type": "stream",
     "text": [
      "Empty DataFrame\n",
      "Columns: [created_at, Temperature_F_26125, Humidity_%_26125, PM2.5_26125]\n",
      "Index: []\n"
     ]
    }
   ],
   "source": [
    "sensors_df = get_multiple_sensors(ID_names)"
   ]
  },
  {
   "cell_type": "code",
   "execution_count": 21,
   "metadata": {
    "colab": {},
    "colab_type": "code",
    "id": "TWKkRlySIIdM"
   },
   "outputs": [
    {
     "data": {
      "text/html": [
       "<div>\n",
       "<style scoped>\n",
       "    .dataframe tbody tr th:only-of-type {\n",
       "        vertical-align: middle;\n",
       "    }\n",
       "\n",
       "    .dataframe tbody tr th {\n",
       "        vertical-align: top;\n",
       "    }\n",
       "\n",
       "    .dataframe thead th {\n",
       "        text-align: right;\n",
       "    }\n",
       "</style>\n",
       "<table border=\"1\" class=\"dataframe\">\n",
       "  <thead>\n",
       "    <tr style=\"text-align: right;\">\n",
       "      <th></th>\n",
       "      <th>Temperature_F_26125</th>\n",
       "      <th>Humidity_%_26125</th>\n",
       "      <th>PM2.5_26125</th>\n",
       "      <th>PM2.5_26126</th>\n",
       "      <th>created_at</th>\n",
       "      <th>Temperature_F_29003</th>\n",
       "      <th>Humidity_%_29003</th>\n",
       "      <th>PM2.5_29003</th>\n",
       "      <th>PM2.5_29004</th>\n",
       "      <th>Temperature_F_2796</th>\n",
       "      <th>...</th>\n",
       "      <th>Temperature_F_34435</th>\n",
       "      <th>Humidity_%_34435</th>\n",
       "      <th>PM2.5_34435</th>\n",
       "      <th>PM2.5_34436</th>\n",
       "      <th>Temperature_F_22651</th>\n",
       "      <th>Humidity_%_22651</th>\n",
       "      <th>PM2.5_22651</th>\n",
       "      <th>PM2.5_22652</th>\n",
       "      <th>Temperature_F_avg</th>\n",
       "      <th>Humidity_avg</th>\n",
       "    </tr>\n",
       "  </thead>\n",
       "  <tbody>\n",
       "    <tr>\n",
       "      <th>0</th>\n",
       "      <td>NaN</td>\n",
       "      <td>NaN</td>\n",
       "      <td>NaN</td>\n",
       "      <td>NaN</td>\n",
       "      <td>2020-09-21 08:00:00 UTC</td>\n",
       "      <td>79.888889</td>\n",
       "      <td>39.814815</td>\n",
       "      <td>3.081111</td>\n",
       "      <td>3.108519</td>\n",
       "      <td>NaN</td>\n",
       "      <td>...</td>\n",
       "      <td>NaN</td>\n",
       "      <td>NaN</td>\n",
       "      <td>NaN</td>\n",
       "      <td>NaN</td>\n",
       "      <td>NaN</td>\n",
       "      <td>NaN</td>\n",
       "      <td>NaN</td>\n",
       "      <td>NaN</td>\n",
       "      <td>79.888889</td>\n",
       "      <td>39.814815</td>\n",
       "    </tr>\n",
       "    <tr>\n",
       "      <th>1</th>\n",
       "      <td>NaN</td>\n",
       "      <td>NaN</td>\n",
       "      <td>NaN</td>\n",
       "      <td>NaN</td>\n",
       "      <td>2020-09-21 09:00:00 UTC</td>\n",
       "      <td>79.433333</td>\n",
       "      <td>37.900000</td>\n",
       "      <td>3.453333</td>\n",
       "      <td>3.408333</td>\n",
       "      <td>NaN</td>\n",
       "      <td>...</td>\n",
       "      <td>NaN</td>\n",
       "      <td>NaN</td>\n",
       "      <td>NaN</td>\n",
       "      <td>NaN</td>\n",
       "      <td>NaN</td>\n",
       "      <td>NaN</td>\n",
       "      <td>NaN</td>\n",
       "      <td>NaN</td>\n",
       "      <td>79.433333</td>\n",
       "      <td>37.900000</td>\n",
       "    </tr>\n",
       "    <tr>\n",
       "      <th>2</th>\n",
       "      <td>NaN</td>\n",
       "      <td>NaN</td>\n",
       "      <td>NaN</td>\n",
       "      <td>NaN</td>\n",
       "      <td>2020-09-21 10:00:00 UTC</td>\n",
       "      <td>79.066667</td>\n",
       "      <td>39.533333</td>\n",
       "      <td>3.588333</td>\n",
       "      <td>3.500667</td>\n",
       "      <td>NaN</td>\n",
       "      <td>...</td>\n",
       "      <td>NaN</td>\n",
       "      <td>NaN</td>\n",
       "      <td>NaN</td>\n",
       "      <td>NaN</td>\n",
       "      <td>NaN</td>\n",
       "      <td>NaN</td>\n",
       "      <td>NaN</td>\n",
       "      <td>NaN</td>\n",
       "      <td>79.066667</td>\n",
       "      <td>39.533333</td>\n",
       "    </tr>\n",
       "    <tr>\n",
       "      <th>3</th>\n",
       "      <td>NaN</td>\n",
       "      <td>NaN</td>\n",
       "      <td>NaN</td>\n",
       "      <td>NaN</td>\n",
       "      <td>2020-09-21 11:00:00 UTC</td>\n",
       "      <td>79.966667</td>\n",
       "      <td>39.066667</td>\n",
       "      <td>2.805333</td>\n",
       "      <td>2.863000</td>\n",
       "      <td>76.100000</td>\n",
       "      <td>...</td>\n",
       "      <td>76.75</td>\n",
       "      <td>63.666667</td>\n",
       "      <td>25.944583</td>\n",
       "      <td>24.133333</td>\n",
       "      <td>78.083333</td>\n",
       "      <td>64.041667</td>\n",
       "      <td>22.674583</td>\n",
       "      <td>22.917826</td>\n",
       "      <td>77.725000</td>\n",
       "      <td>57.456250</td>\n",
       "    </tr>\n",
       "    <tr>\n",
       "      <th>4</th>\n",
       "      <td>NaN</td>\n",
       "      <td>NaN</td>\n",
       "      <td>NaN</td>\n",
       "      <td>NaN</td>\n",
       "      <td>2020-09-21 12:00:00 UTC</td>\n",
       "      <td>79.400000</td>\n",
       "      <td>38.100000</td>\n",
       "      <td>3.468667</td>\n",
       "      <td>3.361667</td>\n",
       "      <td>74.633333</td>\n",
       "      <td>...</td>\n",
       "      <td>74.40</td>\n",
       "      <td>69.733333</td>\n",
       "      <td>26.296000</td>\n",
       "      <td>25.201333</td>\n",
       "      <td>77.000000</td>\n",
       "      <td>68.000000</td>\n",
       "      <td>23.019000</td>\n",
       "      <td>23.326667</td>\n",
       "      <td>76.358333</td>\n",
       "      <td>60.858333</td>\n",
       "    </tr>\n",
       "  </tbody>\n",
       "</table>\n",
       "<p>5 rows × 23 columns</p>\n",
       "</div>"
      ],
      "text/plain": [
       "  Temperature_F_26125 Humidity_%_26125 PM2.5_26125 PM2.5_26126  \\\n",
       "0                 NaN              NaN         NaN         NaN   \n",
       "1                 NaN              NaN         NaN         NaN   \n",
       "2                 NaN              NaN         NaN         NaN   \n",
       "3                 NaN              NaN         NaN         NaN   \n",
       "4                 NaN              NaN         NaN         NaN   \n",
       "\n",
       "                created_at  Temperature_F_29003  Humidity_%_29003  \\\n",
       "0  2020-09-21 08:00:00 UTC            79.888889         39.814815   \n",
       "1  2020-09-21 09:00:00 UTC            79.433333         37.900000   \n",
       "2  2020-09-21 10:00:00 UTC            79.066667         39.533333   \n",
       "3  2020-09-21 11:00:00 UTC            79.966667         39.066667   \n",
       "4  2020-09-21 12:00:00 UTC            79.400000         38.100000   \n",
       "\n",
       "   PM2.5_29003  PM2.5_29004  Temperature_F_2796  ...  Temperature_F_34435  \\\n",
       "0     3.081111     3.108519                 NaN  ...                  NaN   \n",
       "1     3.453333     3.408333                 NaN  ...                  NaN   \n",
       "2     3.588333     3.500667                 NaN  ...                  NaN   \n",
       "3     2.805333     2.863000           76.100000  ...                76.75   \n",
       "4     3.468667     3.361667           74.633333  ...                74.40   \n",
       "\n",
       "   Humidity_%_34435  PM2.5_34435  PM2.5_34436  Temperature_F_22651  \\\n",
       "0               NaN          NaN          NaN                  NaN   \n",
       "1               NaN          NaN          NaN                  NaN   \n",
       "2               NaN          NaN          NaN                  NaN   \n",
       "3         63.666667    25.944583    24.133333            78.083333   \n",
       "4         69.733333    26.296000    25.201333            77.000000   \n",
       "\n",
       "   Humidity_%_22651  PM2.5_22651  PM2.5_22652  Temperature_F_avg  Humidity_avg  \n",
       "0               NaN          NaN          NaN          79.888889     39.814815  \n",
       "1               NaN          NaN          NaN          79.433333     37.900000  \n",
       "2               NaN          NaN          NaN          79.066667     39.533333  \n",
       "3         64.041667    22.674583    22.917826          77.725000     57.456250  \n",
       "4         68.000000    23.019000    23.326667          76.358333     60.858333  \n",
       "\n",
       "[5 rows x 23 columns]"
      ]
     },
     "execution_count": 21,
     "metadata": {},
     "output_type": "execute_result"
    }
   ],
   "source": [
    "sensors_df.head()"
   ]
  },
  {
   "cell_type": "code",
   "execution_count": 22,
   "metadata": {
    "colab": {},
    "colab_type": "code",
    "id": "YR8H5lq2LB9z"
   },
   "outputs": [
    {
     "data": {
      "text/plain": [
       "(271, 23)"
      ]
     },
     "execution_count": 22,
     "metadata": {},
     "output_type": "execute_result"
    }
   ],
   "source": [
    "sensors_df.shape"
   ]
  },
  {
   "cell_type": "code",
   "execution_count": 23,
   "metadata": {
    "colab": {},
    "colab_type": "code",
    "id": "7EFvf9ovwKe7"
   },
   "outputs": [],
   "source": [
    "city_f = city.replace(' ','-')\n",
    "#state_f = state.replace(' ','-')\n",
    "#zipcode_f = str(zipcode)"
   ]
  },
  {
   "cell_type": "code",
   "execution_count": 24,
   "metadata": {
    "colab": {},
    "colab_type": "code",
    "id": "Hos5XkejzvB3"
   },
   "outputs": [],
   "source": [
    "sensor_data_filename = f'{city_f}-{start_date[:10]}-to-{end_date[:10]}-{averaging}.csv'"
   ]
  },
  {
   "cell_type": "code",
   "execution_count": 25,
   "metadata": {
    "colab": {},
    "colab_type": "code",
    "id": "mOR_ZzUcx2lG"
   },
   "outputs": [
    {
     "ename": "NameError",
     "evalue": "name 'basepath' is not defined",
     "output_type": "error",
     "traceback": [
      "\u001b[0;31m---------------------------------------------------------------------------\u001b[0m",
      "\u001b[0;31mNameError\u001b[0m                                 Traceback (most recent call last)",
      "\u001b[0;32m<ipython-input-25-0b27d3a97fd0>\u001b[0m in \u001b[0;36m<module>\u001b[0;34m\u001b[0m\n\u001b[0;32m----> 1\u001b[0;31m \u001b[0msensors_df\u001b[0m\u001b[0;34m.\u001b[0m\u001b[0mto_csv\u001b[0m\u001b[0;34m(\u001b[0m\u001b[0mbasepath\u001b[0m\u001b[0;34m+\u001b[0m\u001b[0msensor_data_filename\u001b[0m\u001b[0;34m,\u001b[0m \u001b[0mindex\u001b[0m \u001b[0;34m=\u001b[0m \u001b[0;32mFalse\u001b[0m\u001b[0;34m)\u001b[0m\u001b[0;34m\u001b[0m\u001b[0;34m\u001b[0m\u001b[0m\n\u001b[0m",
      "\u001b[0;31mNameError\u001b[0m: name 'basepath' is not defined"
     ]
    }
   ],
   "source": [
    "# sensors_df.to_csv(sensor_data_filename, index = False)"
   ]
  },
  {
   "cell_type": "code",
   "execution_count": 26,
   "metadata": {
    "colab": {},
    "colab_type": "code",
    "id": "KekbJmB4LtiY"
   },
   "outputs": [
    {
     "data": {
      "text/plain": [
       "<AxesSubplot:>"
      ]
     },
     "execution_count": 26,
     "metadata": {},
     "output_type": "execute_result"
    },
    {
     "data": {
      "image/png": "[encoded data removed]",
      "text/plain": [
       "<Figure size 720x576 with 1 Axes>"
      ]
     },
     "metadata": {
      "needs_background": "light"
     },
     "output_type": "display_data"
    }
   ],
   "source": [
    "sensors_df.iloc[:,11].plot(figsize = [10,8])"
   ]
  },
  {
   "cell_type": "code",
   "execution_count": 28,
   "metadata": {
    "colab": {},
    "colab_type": "code",
    "id": "g2BXtQ-0TeQt"
   },
   "outputs": [
    {
     "data": {
      "text/plain": [
       "(271, 23)"
      ]
     },
     "execution_count": 28,
     "metadata": {},
     "output_type": "execute_result"
    }
   ],
   "source": [
    "sensors_df.shape"
   ]
  }
 ],
 "metadata": {
  "accelerator": "GPU",
  "colab": {
   "collapsed_sections": [],
   "name": "PurpleAir - Get Historical Data.ipynb",
   "provenance": []
  },
  "kernelspec": {
   "display_name": "Python 3",
   "language": "python",
   "name": "python3"
  },
  "language_info": {
   "codemirror_mode": {
    "name": "ipython",
    "version": 3
   },
   "file_extension": ".py",
   "mimetype": "text/x-python",
   "name": "python",
   "nbconvert_exporter": "python",
   "pygments_lexer": "ipython3",
   "version": "3.6.9"
  }
 },
 "nbformat": 4,
 "nbformat_minor": 1
}
