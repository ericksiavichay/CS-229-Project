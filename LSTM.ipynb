{
  "nbformat": 4,
  "nbformat_minor": 0,
  "metadata": {
    "colab": {
      "name": "LSTM.ipynb",
      "provenance": []
    },
    "kernelspec": {
      "name": "python3",
      "display_name": "Python 3"
    }
  },
  "cells": [
    {
      "cell_type": "code",
      "metadata": {
        "id": "2UVPyI92hAwM",
        "outputId": "553061c8-16b8-40ba-845b-65cfd6f67479",
        "colab": {
          "base_uri": "https://localhost:8080/",
          "height": 151
        }
      },
      "source": [
        "import pandas as pd\n",
        "from datetime import datetime\n",
        "import matplotlib.pyplot as plt\n",
        "from google.colab import drive\n",
        "drive.mount('/content/drive')\n",
        "#load the raw data -- we removed the NA values before inputing\n",
        "def parse(x):\n",
        "\treturn datetime.strptime(x, '%Y %m %d %H')\n",
        "dataset = pd.read_excel('/content/drive/My Drive/Beijing.xlsx',  parse_dates = [['year', 'month', 'day', 'hour']], index_col=0, date_parser=parse)\n",
        "dataset.drop('No', axis=1, inplace=True)\n",
        "dataset.columns = ['pollution', 'dew', 'temp', 'press', 'wnd_dir', 'wnd_spd', 'snow', 'rain']\n",
        "dataset.index.name = 'date'\n",
        "print(dataset.head(5))"
      ],
      "execution_count": null,
      "outputs": [
        {
          "output_type": "stream",
          "text": [
            "Mounted at /content/drive\n",
            "                     pollution  dew  temp   press wnd_dir  wnd_spd  snow  rain\n",
            "date                                                                          \n",
            "2010-01-02 00:00:00        129  -16  -4.0  1020.0      SE     1.79     0     0\n",
            "2010-01-02 01:00:00        148  -15  -4.0  1020.0      SE     2.68     0     0\n",
            "2010-01-02 02:00:00        159  -11  -5.0  1021.0      SE     3.57     0     0\n",
            "2010-01-02 03:00:00        181   -7  -5.0  1022.0      SE     5.36     1     0\n",
            "2010-01-02 04:00:00        138   -7  -5.0  1022.0      SE     6.25     2     0\n"
          ],
          "name": "stdout"
        }
      ]
    },
    {
      "cell_type": "code",
      "metadata": {
        "id": "ozlrxbFOj_Qg"
      },
      "source": [
        "from sklearn import preprocessing\n",
        "from sklearn.preprocessing import MinMaxScaler"
      ],
      "execution_count": null,
      "outputs": []
    },
    {
      "cell_type": "code",
      "metadata": {
        "id": "ZVQDB9qJjL34"
      },
      "source": [
        "from keras.models import Sequential\n",
        "from keras.layers import LSTM\n",
        "from keras.layers import Dense, Dropout"
      ],
      "execution_count": null,
      "outputs": []
    },
    {
      "cell_type": "code",
      "metadata": {
        "id": "1ym6rjPHmHye"
      },
      "source": [
        "pm = dataset.values\n",
        "encoder = preprocessing.LabelEncoder()\n",
        "pm[:,4] = encoder.fit_transform(pm[:,4]) #NW = 1, NE = 0, SE = 2  SW = 3 wind speed direction\n",
        "scaler = MinMaxScaler(feature_range = (0,1))\n",
        "normal_data = scaler.fit_transform(pm)"
      ],
      "execution_count": null,
      "outputs": []
    },
    {
      "cell_type": "code",
      "metadata": {
        "id": "pJSCl_IxwnEA"
      },
      "source": [
        "# train = two years of data\n",
        "train_hours = 365*24*2\n",
        "train = normal_data[: train_hours, :]\n",
        "test = normal_data[train_hours:,:]"
      ],
      "execution_count": null,
      "outputs": []
    },
    {
      "cell_type": "code",
      "metadata": {
        "id": "3AkhkrCmxdJ3",
        "outputId": "af08271f-eef1-490a-a6fb-bd00408b1d58",
        "colab": {
          "base_uri": "https://localhost:8080/",
          "height": 243
        }
      },
      "source": [
        "normal_data"
      ],
      "execution_count": null,
      "outputs": [
        {
          "output_type": "execute_result",
          "data": {
            "text/plain": [
              "array([[0.12977867, 0.35294118, 0.24590164, ..., 0.00237151, 0.        ,\n",
              "        0.        ],\n",
              "       [0.14889336, 0.36764706, 0.24590164, ..., 0.00394662, 0.        ,\n",
              "        0.        ],\n",
              "       [0.15995976, 0.42647059, 0.2295082 , ..., 0.00552173, 0.        ,\n",
              "        0.        ],\n",
              "       ...,\n",
              "       [0.01006036, 0.26470588, 0.26229508, ..., 0.42873071, 0.        ,\n",
              "        0.        ],\n",
              "       [0.00804829, 0.26470588, 0.24590164, ..., 0.43584525, 0.        ,\n",
              "        0.        ],\n",
              "       [0.01207243, 0.27941176, 0.26229508, ..., 0.44138468, 0.        ,\n",
              "        0.        ]])"
            ]
          },
          "metadata": {
            "tags": []
          },
          "execution_count": 50
        }
      ]
    },
    {
      "cell_type": "code",
      "metadata": {
        "id": "ZGmB465SxYqd",
        "outputId": "4abcf444-640b-4d47-e1f3-f0b959db3875",
        "colab": {
          "base_uri": "https://localhost:8080/",
          "height": 243
        }
      },
      "source": [
        "train[:,:-1]"
      ],
      "execution_count": null,
      "outputs": [
        {
          "output_type": "execute_result",
          "data": {
            "text/plain": [
              "array([[0.12977867, 0.35294118, 0.24590164, ..., 0.66666667, 0.00237151,\n",
              "        0.        ],\n",
              "       [0.14889336, 0.36764706, 0.24590164, ..., 0.66666667, 0.00394662,\n",
              "        0.        ],\n",
              "       [0.15995976, 0.42647059, 0.2295082 , ..., 0.66666667, 0.00552173,\n",
              "        0.        ],\n",
              "       ...,\n",
              "       [0.11167002, 0.58823529, 0.32786885, ..., 0.66666667, 0.06488036,\n",
              "        0.25925926],\n",
              "       [0.12072435, 0.58823529, 0.32786885, ..., 0.66666667, 0.07041979,\n",
              "        0.2962963 ],\n",
              "       [0.12173038, 0.58823529, 0.32786885, ..., 0.66666667, 0.07753433,\n",
              "        0.33333333]])"
            ]
          },
          "metadata": {
            "tags": []
          },
          "execution_count": 49
        }
      ]
    },
    {
      "cell_type": "code",
      "metadata": {
        "id": "XGSlyBBa_qpL"
      },
      "source": [
        ""
      ],
      "execution_count": null,
      "outputs": []
    },
    {
      "cell_type": "code",
      "metadata": {
        "id": "KC58uXiv_qxs"
      },
      "source": [
        ""
      ],
      "execution_count": null,
      "outputs": []
    },
    {
      "cell_type": "code",
      "metadata": {
        "id": "uObue_rSxoBz",
        "outputId": "2b279435-18c5-44ad-bbe7-7a36d8d7b804",
        "colab": {
          "base_uri": "https://localhost:8080/",
          "height": 35
        }
      },
      "source": [
        "train[:,-1]"
      ],
      "execution_count": null,
      "outputs": [
        {
          "output_type": "execute_result",
          "data": {
            "text/plain": [
              "array([0., 0., 0., ..., 0., 0., 0.])"
            ]
          },
          "metadata": {
            "tags": []
          },
          "execution_count": 51
        }
      ]
    }
  ]
}