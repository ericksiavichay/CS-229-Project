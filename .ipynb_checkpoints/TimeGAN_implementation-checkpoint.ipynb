{
 "cells": [
  {
   "cell_type": "markdown",
   "metadata": {},
   "source": [
    "# Problem Statement\n",
    "We will investigate how TimeGAN can help us understand the distributions of future time-series when it comes to PM2.5 time-series generation. We will answer questions such as, how worse can air quality be in a certain time frame? We will also look at how well TimeGAN can generate a PM2.5 time-series. TimeGAN was developed by Yoon et al, which you can take a detailed look at the architecture at https://papers.nips.cc/paper/8789-time-series-generative-adversarial-networks"
   ]
  },
  {
   "cell_type": "code",
   "execution_count": 9,
   "metadata": {},
   "outputs": [
    {
     "name": "stdout",
     "output_type": "stream",
     "text": [
      "The autoreload extension is already loaded. To reload it, use:\n",
      "  %reload_ext autoreload\n"
     ]
    }
   ],
   "source": [
    "# Necessary Packages\n",
    "from __future__ import absolute_import\n",
    "from __future__ import division\n",
    "from __future__ import print_function\n",
    "\n",
    "import numpy as np\n",
    "import pandas as pd\n",
    "import warnings\n",
    "warnings.filterwarnings(\"ignore\")\n",
    "\n",
    "# TimeGAN model\n",
    "from timegan import timegan\n",
    "# Data Loading\n",
    "from data_loading import real_data_loading\n",
    "# Metrics\n",
    "from metrics.discriminative_metrics import discriminative_score_metrics\n",
    "from metrics.predictive_metrics import predictive_score_metrics\n",
    "from metrics.visualization_metrics import visualization\n",
    "\n",
    "import os\n",
    "%load_ext autoreload\n",
    "%autoreload 2"
   ]
  },
  {
   "cell_type": "markdown",
   "metadata": {},
   "source": [
    "# Data\n",
    "We will be using NAPA datasets from 2007 to 2020 where we are interested in mean daily PM2.5 and AQI"
   ]
  },
  {
   "cell_type": "code",
   "execution_count": 2,
   "metadata": {},
   "outputs": [],
   "source": [
    "# data_path = \"data/\"\n",
    "# data = [pd.read_csv(data_path + file) for file in os.listdir(data_path)]\n",
    "# master_napa = pd.concat(data).reset_index()"
   ]
  },
  {
   "cell_type": "code",
   "execution_count": 3,
   "metadata": {},
   "outputs": [],
   "source": [
    "# # obtain only dail AQI and mean daily PM2.5 columns\n",
    "# pm_data = master_napa[[\"Date\", \"Daily Mean PM2.5 Concentration\", \"DAILY_AQI_VALUE\"]]\n",
    "# pm_data.to_csv(\"data/napa_master_date.csv\", index=False)"
   ]
  },
  {
   "cell_type": "code",
   "execution_count": 4,
   "metadata": {},
   "outputs": [],
   "source": [
    "# beijing_data = pd.read_csv(\"data/beijing.csv\")\n",
    "# beijing_master = beijing_data.drop(columns=[\"No\", \"cbwd\"])\n",
    "# beijing_master.to_csv(\"data/beijing_master.csv\", index=False)"
   ]
  },
  {
   "cell_type": "code",
   "execution_count": 5,
   "metadata": {},
   "outputs": [],
   "source": [
    "# use TimeGAN's data loading \n",
    "data_name = 'beijing'\n",
    "sequence_length = 24\n",
    "ori_data = real_data_loading(data_name, sequence_length)"
   ]
  },
  {
   "cell_type": "markdown",
   "metadata": {},
   "source": [
    "# Network Parameters\n",
    "The following parameters will be experimentally evaluated \n",
    "* module: gru, lstm, or lstmLN\n",
    "* hidden_dim: hidden dimensions\n",
    "* num_layer: number of layers\n",
    "* iteration: number of training iterations\n",
    "* batch_size: the number of samples in each batch"
   ]
  },
  {
   "cell_type": "code",
   "execution_count": 6,
   "metadata": {},
   "outputs": [],
   "source": [
    "parameters = dict()\n",
    "\n",
    "parameters['module'] = 'gru' \n",
    "parameters['hidden_dim'] = 24\n",
    "parameters['num_layer'] = 3\n",
    "parameters['iterations'] = 10000 # default 10000\n",
    "parameters['batch_size'] = 128"
   ]
  },
  {
   "cell_type": "code",
   "execution_count": 11,
   "metadata": {
    "scrolled": true
   },
   "outputs": [
    {
     "name": "stdout",
     "output_type": "stream",
     "text": [
      "Start Embedding Network Training\n",
      "step: 0/10000, e_loss: 0.3535\n",
      "step: 100/10000, e_loss: 0.2296\n",
      "step: 200/10000, e_loss: 0.2025\n",
      "step: 300/10000, e_loss: 0.1927\n",
      "step: 400/10000, e_loss: 0.187\n",
      "step: 500/10000, e_loss: 0.1693\n",
      "step: 600/10000, e_loss: 0.1585\n",
      "step: 700/10000, e_loss: 0.1449\n",
      "step: 800/10000, e_loss: 0.1347\n",
      "step: 900/10000, e_loss: 0.1111\n",
      "step: 1000/10000, e_loss: 0.0972\n",
      "step: 1100/10000, e_loss: 0.0856\n",
      "step: 1200/10000, e_loss: 0.0789\n",
      "step: 1300/10000, e_loss: 0.0682\n",
      "step: 1400/10000, e_loss: 0.0664\n",
      "step: 1500/10000, e_loss: 0.0678\n",
      "step: 1600/10000, e_loss: 0.0684\n",
      "step: 1700/10000, e_loss: 0.0655\n",
      "step: 1800/10000, e_loss: 0.0644\n",
      "step: 1900/10000, e_loss: 0.0671\n",
      "step: 2000/10000, e_loss: 0.0612\n",
      "step: 2100/10000, e_loss: 0.0564\n",
      "step: 2200/10000, e_loss: 0.061\n",
      "step: 2300/10000, e_loss: 0.0579\n",
      "step: 2400/10000, e_loss: 0.0569\n",
      "step: 2500/10000, e_loss: 0.0589\n",
      "step: 2600/10000, e_loss: 0.0559\n",
      "step: 2700/10000, e_loss: 0.0516\n",
      "step: 2800/10000, e_loss: 0.0503\n",
      "step: 2900/10000, e_loss: 0.0506\n",
      "step: 3000/10000, e_loss: 0.0484\n",
      "step: 3100/10000, e_loss: 0.0522\n",
      "step: 3200/10000, e_loss: 0.0486\n",
      "step: 3300/10000, e_loss: 0.0481\n",
      "step: 3400/10000, e_loss: 0.0479\n",
      "step: 3500/10000, e_loss: 0.0525\n",
      "step: 3600/10000, e_loss: 0.0475\n",
      "step: 3700/10000, e_loss: 0.0463\n",
      "step: 3800/10000, e_loss: 0.0482\n",
      "step: 3900/10000, e_loss: 0.0461\n",
      "step: 4000/10000, e_loss: 0.0445\n",
      "step: 4100/10000, e_loss: 0.0441\n",
      "step: 4200/10000, e_loss: 0.042\n",
      "step: 4300/10000, e_loss: 0.0395\n",
      "step: 4400/10000, e_loss: 0.0422\n",
      "step: 4500/10000, e_loss: 0.0395\n",
      "step: 4600/10000, e_loss: 0.0389\n",
      "step: 4700/10000, e_loss: 0.0404\n",
      "step: 4800/10000, e_loss: 0.04\n",
      "step: 4900/10000, e_loss: 0.0384\n",
      "step: 5000/10000, e_loss: 0.0381\n",
      "step: 5100/10000, e_loss: 0.0395\n",
      "step: 5200/10000, e_loss: 0.0376\n",
      "step: 5300/10000, e_loss: 0.04\n",
      "step: 5400/10000, e_loss: 0.0363\n",
      "step: 5500/10000, e_loss: 0.0417\n",
      "step: 5600/10000, e_loss: 0.0374\n",
      "step: 5700/10000, e_loss: 0.0426\n",
      "step: 5800/10000, e_loss: 0.0346\n",
      "step: 5900/10000, e_loss: 0.0382\n",
      "step: 6000/10000, e_loss: 0.0364\n",
      "step: 6100/10000, e_loss: 0.0369\n",
      "step: 6200/10000, e_loss: 0.0356\n",
      "step: 6300/10000, e_loss: 0.0379\n",
      "step: 6400/10000, e_loss: 0.035\n",
      "step: 6500/10000, e_loss: 0.0358\n",
      "step: 6600/10000, e_loss: 0.034\n",
      "step: 6700/10000, e_loss: 0.0355\n",
      "step: 6800/10000, e_loss: 0.0398\n",
      "step: 6900/10000, e_loss: 0.0362\n",
      "step: 7000/10000, e_loss: 0.0356\n",
      "step: 7100/10000, e_loss: 0.0354\n",
      "step: 7200/10000, e_loss: 0.0411\n",
      "step: 7300/10000, e_loss: 0.0349\n",
      "step: 7400/10000, e_loss: 0.0365\n",
      "step: 7500/10000, e_loss: 0.0408\n",
      "step: 7600/10000, e_loss: 0.0325\n",
      "step: 7700/10000, e_loss: 0.0334\n",
      "step: 7800/10000, e_loss: 0.0311\n",
      "step: 7900/10000, e_loss: 0.0292\n",
      "step: 8000/10000, e_loss: 0.0324\n",
      "step: 8100/10000, e_loss: 0.0299\n",
      "step: 8200/10000, e_loss: 0.0381\n",
      "step: 8300/10000, e_loss: 0.0293\n",
      "step: 8400/10000, e_loss: 0.033\n",
      "step: 8500/10000, e_loss: 0.0305\n",
      "step: 8600/10000, e_loss: 0.0286\n",
      "step: 8700/10000, e_loss: 0.0336\n",
      "step: 8800/10000, e_loss: 0.0311\n",
      "step: 8900/10000, e_loss: 0.031\n",
      "step: 9000/10000, e_loss: 0.0287\n",
      "step: 9100/10000, e_loss: 0.0262\n",
      "step: 9200/10000, e_loss: 0.0301\n",
      "step: 9300/10000, e_loss: 0.0291\n",
      "step: 9400/10000, e_loss: 0.0319\n",
      "step: 9500/10000, e_loss: 0.0262\n",
      "step: 9600/10000, e_loss: 0.0325\n",
      "step: 9700/10000, e_loss: 0.0361\n",
      "step: 9800/10000, e_loss: 0.0333\n",
      "step: 9900/10000, e_loss: 0.028\n",
      "Finish Embedding Network Training\n",
      "Start Training with Supervised Loss Only\n",
      "step: 0/10000, s_loss: 0.1825\n",
      "step: 100/10000, s_loss: 0.089\n",
      "step: 200/10000, s_loss: 0.076\n",
      "step: 300/10000, s_loss: 0.0581\n",
      "step: 400/10000, s_loss: 0.0486\n",
      "step: 500/10000, s_loss: 0.0467\n",
      "step: 600/10000, s_loss: 0.0402\n",
      "step: 700/10000, s_loss: 0.0386\n",
      "step: 800/10000, s_loss: 0.0369\n",
      "step: 900/10000, s_loss: 0.0363\n",
      "step: 1000/10000, s_loss: 0.0335\n",
      "step: 1100/10000, s_loss: 0.0331\n",
      "step: 1200/10000, s_loss: 0.0333\n",
      "step: 1300/10000, s_loss: 0.0319\n",
      "step: 1400/10000, s_loss: 0.0299\n",
      "step: 1500/10000, s_loss: 0.0316\n",
      "step: 1600/10000, s_loss: 0.0306\n",
      "step: 1700/10000, s_loss: 0.0294\n",
      "step: 1800/10000, s_loss: 0.03\n",
      "step: 1900/10000, s_loss: 0.0305\n",
      "step: 2000/10000, s_loss: 0.0284\n",
      "step: 2100/10000, s_loss: 0.0292\n",
      "step: 2200/10000, s_loss: 0.0286\n",
      "step: 2300/10000, s_loss: 0.0277\n",
      "step: 2400/10000, s_loss: 0.0252\n",
      "step: 2500/10000, s_loss: 0.0264\n",
      "step: 2600/10000, s_loss: 0.0239\n",
      "step: 2700/10000, s_loss: 0.0255\n",
      "step: 2800/10000, s_loss: 0.0251\n",
      "step: 2900/10000, s_loss: 0.0224\n",
      "step: 3000/10000, s_loss: 0.0234\n",
      "step: 3100/10000, s_loss: 0.023\n",
      "step: 3200/10000, s_loss: 0.0231\n",
      "step: 3300/10000, s_loss: 0.0221\n",
      "step: 3400/10000, s_loss: 0.0228\n",
      "step: 3500/10000, s_loss: 0.0223\n",
      "step: 3600/10000, s_loss: 0.0215\n",
      "step: 3700/10000, s_loss: 0.0225\n",
      "step: 3800/10000, s_loss: 0.0206\n",
      "step: 3900/10000, s_loss: 0.0205\n",
      "step: 4000/10000, s_loss: 0.0206\n",
      "step: 4100/10000, s_loss: 0.0204\n",
      "step: 4200/10000, s_loss: 0.0219\n",
      "step: 4300/10000, s_loss: 0.0208\n",
      "step: 4400/10000, s_loss: 0.0222\n",
      "step: 4500/10000, s_loss: 0.0186\n",
      "step: 4600/10000, s_loss: 0.0198\n",
      "step: 4700/10000, s_loss: 0.019\n",
      "step: 4800/10000, s_loss: 0.0185\n",
      "step: 4900/10000, s_loss: 0.0188\n",
      "step: 5000/10000, s_loss: 0.0197\n",
      "step: 5100/10000, s_loss: 0.0186\n",
      "step: 5200/10000, s_loss: 0.0206\n",
      "step: 5300/10000, s_loss: 0.019\n",
      "step: 5400/10000, s_loss: 0.0194\n",
      "step: 5500/10000, s_loss: 0.0183\n",
      "step: 5600/10000, s_loss: 0.0219\n",
      "step: 5700/10000, s_loss: 0.0188\n",
      "step: 5800/10000, s_loss: 0.0188\n",
      "step: 5900/10000, s_loss: 0.0205\n",
      "step: 6000/10000, s_loss: 0.0184\n",
      "step: 6100/10000, s_loss: 0.0195\n",
      "step: 6200/10000, s_loss: 0.0207\n",
      "step: 6300/10000, s_loss: 0.0189\n",
      "step: 6400/10000, s_loss: 0.0178\n",
      "step: 6500/10000, s_loss: 0.0194\n",
      "step: 6600/10000, s_loss: 0.019\n",
      "step: 6700/10000, s_loss: 0.0205\n",
      "step: 6800/10000, s_loss: 0.0172\n",
      "step: 6900/10000, s_loss: 0.0171\n",
      "step: 7000/10000, s_loss: 0.0168\n",
      "step: 7100/10000, s_loss: 0.0175\n",
      "step: 7200/10000, s_loss: 0.0159\n",
      "step: 7300/10000, s_loss: 0.0191\n",
      "step: 7400/10000, s_loss: 0.0204\n",
      "step: 7500/10000, s_loss: 0.0165\n",
      "step: 7600/10000, s_loss: 0.0185\n",
      "step: 7700/10000, s_loss: 0.0162\n",
      "step: 7800/10000, s_loss: 0.0154\n",
      "step: 7900/10000, s_loss: 0.0166\n",
      "step: 8000/10000, s_loss: 0.0166\n",
      "step: 8100/10000, s_loss: 0.0172\n",
      "step: 8200/10000, s_loss: 0.0191\n",
      "step: 8300/10000, s_loss: 0.0167\n",
      "step: 8400/10000, s_loss: 0.0181\n",
      "step: 8500/10000, s_loss: 0.0171\n",
      "step: 8600/10000, s_loss: 0.019\n",
      "step: 8700/10000, s_loss: 0.0171\n",
      "step: 8800/10000, s_loss: 0.0193\n",
      "step: 8900/10000, s_loss: 0.0173\n",
      "step: 9000/10000, s_loss: 0.0157\n",
      "step: 9100/10000, s_loss: 0.0166\n",
      "step: 9200/10000, s_loss: 0.0166\n",
      "step: 9300/10000, s_loss: 0.0165\n",
      "step: 9400/10000, s_loss: 0.0167\n",
      "step: 9500/10000, s_loss: 0.016\n",
      "step: 9600/10000, s_loss: 0.0173\n",
      "step: 9700/10000, s_loss: 0.0162\n",
      "step: 9800/10000, s_loss: 0.0186\n",
      "step: 9900/10000, s_loss: 0.0179\n",
      "Finish Training with Supervised Loss Only\n",
      "Start Joint Training\n",
      "step: 0/10000, d_loss: 2.0591, g_loss_u: 0.7452, g_loss_s: 0.0267, g_loss_v: 0.356, e_loss_t0: 0.0941\n",
      "step: 100/10000, d_loss: 1.2806, g_loss_u: 1.0647, g_loss_s: 0.0243, g_loss_v: 0.1132, e_loss_t0: 0.0239\n",
      "step: 200/10000, d_loss: 0.7913, g_loss_u: 2.4621, g_loss_s: 0.0291, g_loss_v: 0.0902, e_loss_t0: 0.0251\n",
      "step: 300/10000, d_loss: 0.2838, g_loss_u: 4.4473, g_loss_s: 0.0296, g_loss_v: 0.0701, e_loss_t0: 0.0252\n",
      "step: 400/10000, d_loss: 0.5548, g_loss_u: 3.6067, g_loss_s: 0.0295, g_loss_v: 0.063, e_loss_t0: 0.0254\n",
      "step: 500/10000, d_loss: 1.6519, g_loss_u: 1.3283, g_loss_s: 0.0292, g_loss_v: 0.0549, e_loss_t0: 0.0235\n",
      "step: 600/10000, d_loss: 1.8669, g_loss_u: 0.9442, g_loss_s: 0.0244, g_loss_v: 0.0404, e_loss_t0: 0.0217\n",
      "step: 700/10000, d_loss: 1.729, g_loss_u: 0.858, g_loss_s: 0.0253, g_loss_v: 0.0322, e_loss_t0: 0.0216\n",
      "step: 800/10000, d_loss: 1.652, g_loss_u: 0.8711, g_loss_s: 0.0247, g_loss_v: 0.035, e_loss_t0: 0.023\n",
      "step: 900/10000, d_loss: 1.6674, g_loss_u: 1.0489, g_loss_s: 0.0241, g_loss_v: 0.0346, e_loss_t0: 0.0222\n",
      "step: 1000/10000, d_loss: 1.9373, g_loss_u: 0.9612, g_loss_s: 0.0246, g_loss_v: 0.0365, e_loss_t0: 0.0211\n",
      "step: 1100/10000, d_loss: 1.977, g_loss_u: 1.0446, g_loss_s: 0.0244, g_loss_v: 0.0472, e_loss_t0: 0.0265\n",
      "step: 1200/10000, d_loss: 1.6939, g_loss_u: 0.9824, g_loss_s: 0.0215, g_loss_v: 0.0291, e_loss_t0: 0.0196\n",
      "step: 1300/10000, d_loss: 1.9027, g_loss_u: 0.9374, g_loss_s: 0.0251, g_loss_v: 0.0328, e_loss_t0: 0.0202\n",
      "step: 1400/10000, d_loss: 2.0333, g_loss_u: 0.658, g_loss_s: 0.025, g_loss_v: 0.0378, e_loss_t0: 0.0203\n"
     ]
    },
    {
     "name": "stdout",
     "output_type": "stream",
     "text": [
      "step: 1500/10000, d_loss: 1.8327, g_loss_u: 0.9513, g_loss_s: 0.0247, g_loss_v: 0.0394, e_loss_t0: 0.0197\n"
     ]
    },
    {
     "ename": "KeyboardInterrupt",
     "evalue": "",
     "output_type": "error",
     "traceback": [
      "\u001b[0;31m---------------------------------------------------------------------------\u001b[0m",
      "\u001b[0;31mKeyboardInterrupt\u001b[0m                         Traceback (most recent call last)",
      "\u001b[0;32m<ipython-input-11-9d5e4cb51011>\u001b[0m in \u001b[0;36m<module>\u001b[0;34m\u001b[0m\n\u001b[0;32m----> 1\u001b[0;31m \u001b[0mgenerated_data\u001b[0m \u001b[0;34m=\u001b[0m \u001b[0mtimegan\u001b[0m\u001b[0;34m(\u001b[0m\u001b[0mori_data\u001b[0m\u001b[0;34m,\u001b[0m \u001b[0mparameters\u001b[0m\u001b[0;34m)\u001b[0m\u001b[0;34m\u001b[0m\u001b[0;34m\u001b[0m\u001b[0m\n\u001b[0m",
      "\u001b[0;32m~/CS-229-Project/timegan.py\u001b[0m in \u001b[0;36mtimegan\u001b[0;34m(ori_data, parameters)\u001b[0m\n\u001b[1;32m    268\u001b[0m       \u001b[0mZ_mb\u001b[0m \u001b[0;34m=\u001b[0m \u001b[0mrandom_generator\u001b[0m\u001b[0;34m(\u001b[0m\u001b[0mbatch_size\u001b[0m\u001b[0;34m,\u001b[0m \u001b[0mz_dim\u001b[0m\u001b[0;34m,\u001b[0m \u001b[0mT_mb\u001b[0m\u001b[0;34m,\u001b[0m \u001b[0mmax_seq_len\u001b[0m\u001b[0;34m)\u001b[0m\u001b[0;34m\u001b[0m\u001b[0;34m\u001b[0m\u001b[0m\n\u001b[1;32m    269\u001b[0m       \u001b[0;31m# Train generator\u001b[0m\u001b[0;34m\u001b[0m\u001b[0;34m\u001b[0m\u001b[0;34m\u001b[0m\u001b[0m\n\u001b[0;32m--> 270\u001b[0;31m       \u001b[0m_\u001b[0m\u001b[0;34m,\u001b[0m \u001b[0mstep_g_loss_u\u001b[0m\u001b[0;34m,\u001b[0m \u001b[0mstep_g_loss_s\u001b[0m\u001b[0;34m,\u001b[0m \u001b[0mstep_g_loss_v\u001b[0m \u001b[0;34m=\u001b[0m \u001b[0msess\u001b[0m\u001b[0;34m.\u001b[0m\u001b[0mrun\u001b[0m\u001b[0;34m(\u001b[0m\u001b[0;34m[\u001b[0m\u001b[0mG_solver\u001b[0m\u001b[0;34m,\u001b[0m \u001b[0mG_loss_U\u001b[0m\u001b[0;34m,\u001b[0m \u001b[0mG_loss_S\u001b[0m\u001b[0;34m,\u001b[0m \u001b[0mG_loss_V\u001b[0m\u001b[0;34m]\u001b[0m\u001b[0;34m,\u001b[0m \u001b[0mfeed_dict\u001b[0m\u001b[0;34m=\u001b[0m\u001b[0;34m{\u001b[0m\u001b[0mZ\u001b[0m\u001b[0;34m:\u001b[0m \u001b[0mZ_mb\u001b[0m\u001b[0;34m,\u001b[0m \u001b[0mX\u001b[0m\u001b[0;34m:\u001b[0m \u001b[0mX_mb\u001b[0m\u001b[0;34m,\u001b[0m \u001b[0mT\u001b[0m\u001b[0;34m:\u001b[0m \u001b[0mT_mb\u001b[0m\u001b[0;34m}\u001b[0m\u001b[0;34m)\u001b[0m\u001b[0;34m\u001b[0m\u001b[0;34m\u001b[0m\u001b[0m\n\u001b[0m\u001b[1;32m    271\u001b[0m        \u001b[0;31m# Train embedder\u001b[0m\u001b[0;34m\u001b[0m\u001b[0;34m\u001b[0m\u001b[0;34m\u001b[0m\u001b[0m\n\u001b[1;32m    272\u001b[0m       \u001b[0m_\u001b[0m\u001b[0;34m,\u001b[0m \u001b[0mstep_e_loss_t0\u001b[0m \u001b[0;34m=\u001b[0m \u001b[0msess\u001b[0m\u001b[0;34m.\u001b[0m\u001b[0mrun\u001b[0m\u001b[0;34m(\u001b[0m\u001b[0;34m[\u001b[0m\u001b[0mE_solver\u001b[0m\u001b[0;34m,\u001b[0m \u001b[0mE_loss_T0\u001b[0m\u001b[0;34m]\u001b[0m\u001b[0;34m,\u001b[0m \u001b[0mfeed_dict\u001b[0m\u001b[0;34m=\u001b[0m\u001b[0;34m{\u001b[0m\u001b[0mZ\u001b[0m\u001b[0;34m:\u001b[0m \u001b[0mZ_mb\u001b[0m\u001b[0;34m,\u001b[0m \u001b[0mX\u001b[0m\u001b[0;34m:\u001b[0m \u001b[0mX_mb\u001b[0m\u001b[0;34m,\u001b[0m \u001b[0mT\u001b[0m\u001b[0;34m:\u001b[0m \u001b[0mT_mb\u001b[0m\u001b[0;34m}\u001b[0m\u001b[0;34m)\u001b[0m\u001b[0;34m\u001b[0m\u001b[0;34m\u001b[0m\u001b[0m\n",
      "\u001b[0;32m/opt/conda/lib/python3.7/site-packages/tensorflow_core/python/client/session.py\u001b[0m in \u001b[0;36mrun\u001b[0;34m(self, fetches, feed_dict, options, run_metadata)\u001b[0m\n\u001b[1;32m    954\u001b[0m     \u001b[0;32mtry\u001b[0m\u001b[0;34m:\u001b[0m\u001b[0;34m\u001b[0m\u001b[0;34m\u001b[0m\u001b[0m\n\u001b[1;32m    955\u001b[0m       result = self._run(None, fetches, feed_dict, options_ptr,\n\u001b[0;32m--> 956\u001b[0;31m                          run_metadata_ptr)\n\u001b[0m\u001b[1;32m    957\u001b[0m       \u001b[0;32mif\u001b[0m \u001b[0mrun_metadata\u001b[0m\u001b[0;34m:\u001b[0m\u001b[0;34m\u001b[0m\u001b[0;34m\u001b[0m\u001b[0m\n\u001b[1;32m    958\u001b[0m         \u001b[0mproto_data\u001b[0m \u001b[0;34m=\u001b[0m \u001b[0mtf_session\u001b[0m\u001b[0;34m.\u001b[0m\u001b[0mTF_GetBuffer\u001b[0m\u001b[0;34m(\u001b[0m\u001b[0mrun_metadata_ptr\u001b[0m\u001b[0;34m)\u001b[0m\u001b[0;34m\u001b[0m\u001b[0;34m\u001b[0m\u001b[0m\n",
      "\u001b[0;32m/opt/conda/lib/python3.7/site-packages/tensorflow_core/python/client/session.py\u001b[0m in \u001b[0;36m_run\u001b[0;34m(self, handle, fetches, feed_dict, options, run_metadata)\u001b[0m\n\u001b[1;32m   1178\u001b[0m     \u001b[0;32mif\u001b[0m \u001b[0mfinal_fetches\u001b[0m \u001b[0;32mor\u001b[0m \u001b[0mfinal_targets\u001b[0m \u001b[0;32mor\u001b[0m \u001b[0;34m(\u001b[0m\u001b[0mhandle\u001b[0m \u001b[0;32mand\u001b[0m \u001b[0mfeed_dict_tensor\u001b[0m\u001b[0;34m)\u001b[0m\u001b[0;34m:\u001b[0m\u001b[0;34m\u001b[0m\u001b[0;34m\u001b[0m\u001b[0m\n\u001b[1;32m   1179\u001b[0m       results = self._do_run(handle, final_targets, final_fetches,\n\u001b[0;32m-> 1180\u001b[0;31m                              feed_dict_tensor, options, run_metadata)\n\u001b[0m\u001b[1;32m   1181\u001b[0m     \u001b[0;32melse\u001b[0m\u001b[0;34m:\u001b[0m\u001b[0;34m\u001b[0m\u001b[0;34m\u001b[0m\u001b[0m\n\u001b[1;32m   1182\u001b[0m       \u001b[0mresults\u001b[0m \u001b[0;34m=\u001b[0m \u001b[0;34m[\u001b[0m\u001b[0;34m]\u001b[0m\u001b[0;34m\u001b[0m\u001b[0;34m\u001b[0m\u001b[0m\n",
      "\u001b[0;32m/opt/conda/lib/python3.7/site-packages/tensorflow_core/python/client/session.py\u001b[0m in \u001b[0;36m_do_run\u001b[0;34m(self, handle, target_list, fetch_list, feed_dict, options, run_metadata)\u001b[0m\n\u001b[1;32m   1357\u001b[0m     \u001b[0;32mif\u001b[0m \u001b[0mhandle\u001b[0m \u001b[0;32mis\u001b[0m \u001b[0;32mNone\u001b[0m\u001b[0;34m:\u001b[0m\u001b[0;34m\u001b[0m\u001b[0;34m\u001b[0m\u001b[0m\n\u001b[1;32m   1358\u001b[0m       return self._do_call(_run_fn, feeds, fetches, targets, options,\n\u001b[0;32m-> 1359\u001b[0;31m                            run_metadata)\n\u001b[0m\u001b[1;32m   1360\u001b[0m     \u001b[0;32melse\u001b[0m\u001b[0;34m:\u001b[0m\u001b[0;34m\u001b[0m\u001b[0;34m\u001b[0m\u001b[0m\n\u001b[1;32m   1361\u001b[0m       \u001b[0;32mreturn\u001b[0m \u001b[0mself\u001b[0m\u001b[0;34m.\u001b[0m\u001b[0m_do_call\u001b[0m\u001b[0;34m(\u001b[0m\u001b[0m_prun_fn\u001b[0m\u001b[0;34m,\u001b[0m \u001b[0mhandle\u001b[0m\u001b[0;34m,\u001b[0m \u001b[0mfeeds\u001b[0m\u001b[0;34m,\u001b[0m \u001b[0mfetches\u001b[0m\u001b[0;34m)\u001b[0m\u001b[0;34m\u001b[0m\u001b[0;34m\u001b[0m\u001b[0m\n",
      "\u001b[0;32m/opt/conda/lib/python3.7/site-packages/tensorflow_core/python/client/session.py\u001b[0m in \u001b[0;36m_do_call\u001b[0;34m(self, fn, *args)\u001b[0m\n\u001b[1;32m   1363\u001b[0m   \u001b[0;32mdef\u001b[0m \u001b[0m_do_call\u001b[0m\u001b[0;34m(\u001b[0m\u001b[0mself\u001b[0m\u001b[0;34m,\u001b[0m \u001b[0mfn\u001b[0m\u001b[0;34m,\u001b[0m \u001b[0;34m*\u001b[0m\u001b[0margs\u001b[0m\u001b[0;34m)\u001b[0m\u001b[0;34m:\u001b[0m\u001b[0;34m\u001b[0m\u001b[0;34m\u001b[0m\u001b[0m\n\u001b[1;32m   1364\u001b[0m     \u001b[0;32mtry\u001b[0m\u001b[0;34m:\u001b[0m\u001b[0;34m\u001b[0m\u001b[0;34m\u001b[0m\u001b[0m\n\u001b[0;32m-> 1365\u001b[0;31m       \u001b[0;32mreturn\u001b[0m \u001b[0mfn\u001b[0m\u001b[0;34m(\u001b[0m\u001b[0;34m*\u001b[0m\u001b[0margs\u001b[0m\u001b[0;34m)\u001b[0m\u001b[0;34m\u001b[0m\u001b[0;34m\u001b[0m\u001b[0m\n\u001b[0m\u001b[1;32m   1366\u001b[0m     \u001b[0;32mexcept\u001b[0m \u001b[0merrors\u001b[0m\u001b[0;34m.\u001b[0m\u001b[0mOpError\u001b[0m \u001b[0;32mas\u001b[0m \u001b[0me\u001b[0m\u001b[0;34m:\u001b[0m\u001b[0;34m\u001b[0m\u001b[0;34m\u001b[0m\u001b[0m\n\u001b[1;32m   1367\u001b[0m       \u001b[0mmessage\u001b[0m \u001b[0;34m=\u001b[0m \u001b[0mcompat\u001b[0m\u001b[0;34m.\u001b[0m\u001b[0mas_text\u001b[0m\u001b[0;34m(\u001b[0m\u001b[0me\u001b[0m\u001b[0;34m.\u001b[0m\u001b[0mmessage\u001b[0m\u001b[0;34m)\u001b[0m\u001b[0;34m\u001b[0m\u001b[0;34m\u001b[0m\u001b[0m\n",
      "\u001b[0;32m/opt/conda/lib/python3.7/site-packages/tensorflow_core/python/client/session.py\u001b[0m in \u001b[0;36m_run_fn\u001b[0;34m(feed_dict, fetch_list, target_list, options, run_metadata)\u001b[0m\n\u001b[1;32m   1348\u001b[0m       \u001b[0mself\u001b[0m\u001b[0;34m.\u001b[0m\u001b[0m_extend_graph\u001b[0m\u001b[0;34m(\u001b[0m\u001b[0;34m)\u001b[0m\u001b[0;34m\u001b[0m\u001b[0;34m\u001b[0m\u001b[0m\n\u001b[1;32m   1349\u001b[0m       return self._call_tf_sessionrun(options, feed_dict, fetch_list,\n\u001b[0;32m-> 1350\u001b[0;31m                                       target_list, run_metadata)\n\u001b[0m\u001b[1;32m   1351\u001b[0m \u001b[0;34m\u001b[0m\u001b[0m\n\u001b[1;32m   1352\u001b[0m     \u001b[0;32mdef\u001b[0m \u001b[0m_prun_fn\u001b[0m\u001b[0;34m(\u001b[0m\u001b[0mhandle\u001b[0m\u001b[0;34m,\u001b[0m \u001b[0mfeed_dict\u001b[0m\u001b[0;34m,\u001b[0m \u001b[0mfetch_list\u001b[0m\u001b[0;34m)\u001b[0m\u001b[0;34m:\u001b[0m\u001b[0;34m\u001b[0m\u001b[0;34m\u001b[0m\u001b[0m\n",
      "\u001b[0;32m/opt/conda/lib/python3.7/site-packages/tensorflow_core/python/client/session.py\u001b[0m in \u001b[0;36m_call_tf_sessionrun\u001b[0;34m(self, options, feed_dict, fetch_list, target_list, run_metadata)\u001b[0m\n\u001b[1;32m   1441\u001b[0m     return tf_session.TF_SessionRun_wrapper(self._session, options, feed_dict,\n\u001b[1;32m   1442\u001b[0m                                             \u001b[0mfetch_list\u001b[0m\u001b[0;34m,\u001b[0m \u001b[0mtarget_list\u001b[0m\u001b[0;34m,\u001b[0m\u001b[0;34m\u001b[0m\u001b[0;34m\u001b[0m\u001b[0m\n\u001b[0;32m-> 1443\u001b[0;31m                                             run_metadata)\n\u001b[0m\u001b[1;32m   1444\u001b[0m \u001b[0;34m\u001b[0m\u001b[0m\n\u001b[1;32m   1445\u001b[0m   \u001b[0;32mdef\u001b[0m \u001b[0m_call_tf_sessionprun\u001b[0m\u001b[0;34m(\u001b[0m\u001b[0mself\u001b[0m\u001b[0;34m,\u001b[0m \u001b[0mhandle\u001b[0m\u001b[0;34m,\u001b[0m \u001b[0mfeed_dict\u001b[0m\u001b[0;34m,\u001b[0m \u001b[0mfetch_list\u001b[0m\u001b[0;34m)\u001b[0m\u001b[0;34m:\u001b[0m\u001b[0;34m\u001b[0m\u001b[0;34m\u001b[0m\u001b[0m\n",
      "\u001b[0;31mKeyboardInterrupt\u001b[0m: "
     ]
    }
   ],
   "source": [
    "generated_data = timegan(ori_data, parameters) "
   ]
  },
  {
   "cell_type": "markdown",
   "metadata": {},
   "source": [
    "# TimeGAN Evaluation\n",
    "Now that TimeGAN has generated data, we want to evaluate it's performance based on three metrics: discriminative score, predictive score, and visualization techniques"
   ]
  },
  {
   "cell_type": "markdown",
   "metadata": {},
   "source": [
    "### 1.  Discriminative Score\n",
    "As per Yoon et al, \"to evaluate the classification accuracy between original and synthetic data using post-hoc RNN network\", we label original data sequences as \"real\" and generated sequences as \"fake\" and we train and test an off-the-shelf RNN classifier and report the classification error on the test set."
   ]
  },
  {
   "cell_type": "code",
   "execution_count": null,
   "metadata": {},
   "outputs": [],
   "source": [
    "metric_iteration = 5\n",
    "rnn_iterations = 2000 # default 2000"
   ]
  },
  {
   "cell_type": "code",
   "execution_count": null,
   "metadata": {},
   "outputs": [],
   "source": [
    "\n",
    "discriminative_score = list()\n",
    "for _ in range(metric_iteration):\n",
    "  temp_disc = discriminative_score_metrics(ori_data, generated_data, rnn_iterations)\n",
    "  discriminative_score.append(temp_disc)\n",
    "\n",
    "print('Discriminative score: ' + str(np.round(np.mean(discriminative_score), 4)))\n"
   ]
  },
  {
   "cell_type": "markdown",
   "metadata": {},
   "source": [
    "### 2. Predictive Score\n",
    "Now we will use a post-hoc RNN to predict one step ahead in the time-series evaluate the performance of the prediction in terms of MAE."
   ]
  },
  {
   "cell_type": "code",
   "execution_count": null,
   "metadata": {},
   "outputs": [],
   "source": [
    "predictive_score = list()\n",
    "for tt in range(metric_iteration):\n",
    "  temp_pred = predictive_score_metrics(ori_data, generated_data, rnn_iterations)\n",
    "  predictive_score.append(temp_pred)   \n",
    "    \n",
    "print('Predictive score: ' + str(np.round(np.mean(predictive_score), 4)))"
   ]
  },
  {
   "cell_type": "markdown",
   "metadata": {},
   "source": [
    "### 3. Visualization of Data\n",
    "We will use PCA and t-SNE to visualize the data"
   ]
  },
  {
   "cell_type": "code",
   "execution_count": null,
   "metadata": {
    "scrolled": true
   },
   "outputs": [],
   "source": [
    "visualization(ori_data, generated_data, 'pca')\n",
    "visualization(ori_data, generated_data, 'tsne')"
   ]
  },
  {
   "cell_type": "code",
   "execution_count": null,
   "metadata": {},
   "outputs": [],
   "source": []
  }
 ],
 "metadata": {
  "kernelspec": {
   "display_name": "Python 3",
   "language": "python",
   "name": "python3"
  },
  "language_info": {
   "codemirror_mode": {
    "name": "ipython",
    "version": 3
   },
   "file_extension": ".py",
   "mimetype": "text/x-python",
   "name": "python",
   "nbconvert_exporter": "python",
   "pygments_lexer": "ipython3",
   "version": "3.7.8"
  }
 },
 "nbformat": 4,
 "nbformat_minor": 4
}
